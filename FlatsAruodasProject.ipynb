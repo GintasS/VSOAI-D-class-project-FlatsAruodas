{
 "cells": [
  {
   "cell_type": "markdown",
   "metadata": {
    "colab_type": "text",
    "id": "CSCVFqwX7vL8"
   },
   "source": [
    "# VSOAI D class project - Aruodas.lt flats for sale\n",
    "\n",
    "This is a project where I scraped <a href='https://www.aruodas.lt/' target='_blank'>aruodas.lt</a>, a lithuanian real estate website, for all available flat listings(ads).<br>Url for all flats: <a href='https://www.aruodas.lt/butai/' target='_blank'>https://www.aruodas.lt/butai/</a>.\n",
    "\n",
    "Scrap was conducted on **2019-08-24**.\n",
    "\n",
    "## 1.Obtain Data step\n",
    "###  About the scraping process:\n",
    "\n",
    "- On first, I used an aggressive strategy, where the application was used to scrap without any delays between the pages, user agent strings or from\n",
    "links. I learned that from this \"brute force\" way, I was getting one captcha page for about 50 pages scraped.And, of course, this strategy got me banned from the website\n",
    "pretty fast.\n",
    "- After I learned from this mistake, I used more carefull approach, where I added delays, user agent strings and from urls and that worked like a charm.No captcha pages were displayed.\n",
    "\n",
    "I used <a href='https://pythonhosted.org/pyquery/' target='_blank'>pyquery</a> library to help me dealing with HTML pages.\n",
    "\n",
    "You can download web scraping python files and .csv files in here: <a href='https://drive.google.com/open?id=1LHofBx1IeoqaVPB14v-Epqw3NybZxmXd'>URL</a>.\n",
    "\n",
    "## 2.Data cleaning step\n",
    "\n",
    "Before adding data to a .csv file, I cleaned data a bit(in the scrap file).\n"
   ]
  },
  {
   "cell_type": "markdown",
   "metadata": {
    "colab_type": "text",
    "id": "m3-JpY1f7vL9"
   },
   "source": [
    "<div>\n",
    "    <table align=\"left\">\n",
    "      <tr>\n",
    "        <th>Column name</th>\n",
    "        <th>Removed whitespace</th> \n",
    "        <th>Removed symbols</th>\n",
    "      </tr>\n",
    "      <tr>\n",
    "        <td>Price (renamed below)</td>\n",
    "        <td>YES</td> \n",
    "        <td>€</td>\n",
    "      </tr>\n",
    "      <tr>\n",
    "        <td>Pricem2 (renamed below)</td>\n",
    "        <td>YES</td> \n",
    "        <td>€/m² ()</td>\n",
    "      </tr>\n",
    "      <tr>\n",
    "          <td>Area (renamed below)</td>\n",
    "          <td>NO</td>\n",
    "          <td>m² ,</td>\n",
    "      </tr>\n",
    "      <tr>\n",
    "          <td>Phone (renamed below)</td>\n",
    "          <td>YES</td>\n",
    "          <td>+</td>\n",
    "      </tr>\n",
    "      <tr>\n",
    "          <td>Coords (renamed below)</td>\n",
    "          <td>NO</td>\n",
    "          <td>,</td>\n",
    "      </tr>\n",
    "    </table>\n",
    "</div>"
   ]
  },
  {
   "cell_type": "markdown",
   "metadata": {
    "colab_type": "text",
    "id": "irTcyKiR7vL_"
   },
   "source": [
    "### 2nd round of cleaning:\n",
    "Imports:"
   ]
  },
  {
   "cell_type": "code",
   "execution_count": 1,
   "metadata": {
    "colab": {
     "base_uri": "https://localhost:8080/",
     "height": 50
    },
    "colab_type": "code",
    "id": "WJ_UumbJ7vMA",
    "outputId": "534be48e-db43-4e1e-975e-0712b0cd1616"
   },
   "outputs": [
    {
     "name": "stdout",
     "output_type": "stream",
     "text": [
      "Setup Complete.\n"
     ]
    }
   ],
   "source": [
    "# Core imports.\n",
    "import numpy as np\n",
    "import pandas as pd\n",
    "import matplotlib.pyplot as plt\n",
    "import seaborn as sns\n",
    "\n",
    "# Folium - to make maps.\n",
    "import folium\n",
    "import folium.plugins as plugins\n",
    "from folium.plugins import MarkerCluster\n",
    "from IPython.display import IFrame\n",
    "\n",
    "# Helper imports.\n",
    "import re # Regex\n",
    "from dateutil.parser import parse\n",
    "\n",
    "# ML\n",
    "from sklearn.model_selection import train_test_split\n",
    "from sklearn.preprocessing import StandardScaler\n",
    "from sklearn.neighbors import KNeighborsClassifier\n",
    "from sklearn.metrics import classification_report, confusion_matrix\n",
    "\n",
    "pd.set_option(\"display.max_rows\", 100)\n",
    "print(\"Setup Complete.\")"
   ]
  },
  {
   "cell_type": "markdown",
   "metadata": {
    "colab_type": "text",
    "id": "XcwDcPkW7vMD"
   },
   "source": [
    "#### Read .csv file\n",
    "While reading csv file via ```pd.read_csv```, I set NaN values to be identified as a minus sign(\"-\").<br> Originally in the scraper file I put not found values as \"-\", so here\n",
    "I am making them NaN."
   ]
  },
  {
   "cell_type": "code",
   "execution_count": 2,
   "metadata": {
    "colab": {},
    "colab_type": "code",
    "id": "2vGtLfWX7vME"
   },
   "outputs": [
    {
     "name": "stdout",
     "output_type": "stream",
     "text": [
      "Dataset read.\n"
     ]
    }
   ],
   "source": [
    "flatsSale = pd.read_csv(\"flatsforsale.csv\", na_values=[\"-\"])\n",
    "print(\"Dataset read.\")"
   ]
  },
  {
   "cell_type": "markdown",
   "metadata": {
    "colab_type": "text",
    "id": "RpYwjY5Nx9_u"
   },
   "source": [
    "### Cleaning operations\n",
    "```clean_text_cols``` - Cleans text columns that should not have any numerical data.<br>\n",
    "*   Replaces anything that's not a letter, special lithuanian letters or '.' and ','.\n",
    "\n",
    "```clean_misc_cols``` - Cleans columns that have both text and numerical data.\n",
    "*   Replaces anything that's not a letter, special lithuanian letters, '.', ',' and digits.\n",
    "\n",
    "```clean_telephone_col``` - Cleans a Telephone column.<br>\n",
    "*   Replace incorrect value \"+\" with NaN.\n",
    "\n",
    "```clean_date_cols``` - Validates dates.\n",
    "*   Validates dates with YYYY-MM-DD format.\n",
    "\n",
    "```clean_coordinates_col``` - Validate coordinates.\n",
    "*   Removes extra whitespace & adds comma between two geo points.\n",
    "\n",
    "```add_latitude_co``` - Get latitude coordinate froom Coords column.\n",
    "\n",
    "```add_longitude_col``` - Get longitude coordinate from Coords column\n",
    "\n",
    "```clean_year_col```- Cleans Year column.\n",
    "*   Removes these strings: \"1965 statyba, 2015 renovacija\".<br>\n",
    "Leaves only the first year - \"1965\".<br>Also removes years not in this range:(1800;2025)\n",
    "\n",
    "All methods accept one row from a Series."
   ]
  },
  {
   "cell_type": "code",
   "execution_count": 3,
   "metadata": {
    "colab": {},
    "colab_type": "code",
    "id": "7TBbdOxYxtAt"
   },
   "outputs": [],
   "source": [
    "def clean_text_cols(row):\n",
    "    if isinstance(row, str):\n",
    "        regex = r\"[^a-zA-Z \\.\\,\\ą\\ę\\į\\ų\\ū\\ė\\š\\ž\\č\\Ą\\Ę\\Į\\Ų\\Ū\\Ė\\Š\\Ž\\Č]\"\n",
    "        row = re.sub(regex, '', str(row))      \n",
    "    return row\n",
    "  \n",
    "def clean_misc_cols(row):\n",
    "    if isinstance(row, str):    \n",
    "        regex = r\"[^a-zA-Z\\d \\.\\,\\ą\\ę\\į\\ų\\ū\\ė\\š\\ž\\č\\Ą\\Ę\\Į\\Ų\\Ū\\Ė\\Š\\Ž\\Č]\"\n",
    "        row = re.sub(regex, '', str(row))    \n",
    "    return row\n",
    "  \n",
    "def clean_telephone_col(row):\n",
    "    if row == \"+\":\n",
    "        return np.NaN\n",
    "    else:\n",
    "        return row\n",
    "\n",
    "def clean_date_cols(row):\n",
    "    try:\n",
    "        if isinstance(row, str):\n",
    "            if parse(row):\n",
    "                return np.datetime64(parse(row), \"D\")\n",
    "    except ValueError:\n",
    "        return str(row)\n",
    "      \n",
    "def clean_coordinates_col(row):\n",
    "    if isinstance(row, str):\n",
    "        index = row.find(\" \")\n",
    "        if index != -1:\n",
    "            row = row[:index] + \",\" + row[index:]\n",
    "            row = row.replace(\" \", \"\")\n",
    "    return row\n",
    "\n",
    "def add_latitude_col(row):\n",
    "    if isinstance(row, str):\n",
    "        row = float(row[:row.find(\",\")])    \n",
    "    return row\n",
    "  \n",
    "def add_longitude_col(row):\n",
    "    if isinstance(row, str):\n",
    "        row = float(row[row.find(\",\") + 1:])\n",
    "    return row \n",
    "  \n",
    "def clean_year_col(row):\n",
    "    if isinstance(row, str):\n",
    "        index = row.find(\"statyba\")\n",
    "        if index != -1:\n",
    "            row = row[:index - 1]\n",
    "        row = np.int64(row)    \n",
    "    if row < 1600 or row > 2025:\n",
    "        return np.NaN\n",
    "    \n",
    "    return row"
   ]
  },
  {
   "cell_type": "markdown",
   "metadata": {
    "colab_type": "text",
    "id": "SE9UWTEoXLji"
   },
   "source": [
    "Renaming columns:"
   ]
  },
  {
   "cell_type": "code",
   "execution_count": 4,
   "metadata": {
    "colab": {},
    "colab_type": "code",
    "id": "u6Y_CKek6uhK"
   },
   "outputs": [],
   "source": [
    "flatsSale.rename(columns={\"County\": \"District\",\n",
    "                          \"Price EUR\": \"Price\", \n",
    "                          \"Price per m2\": \"Pricem2\", \n",
    "                          \"Area m2\": \"Area\", \n",
    "                          \"Flat number\": \"FlatNumber\",\n",
    "                          \"House number\": \"HouseNumber\",\n",
    "                          \"Total floors\": \"TotalFloors\",\n",
    "                          \"Building type\": \"BuildingType\",\n",
    "                          \"Installation type\": \"InstallationType\",\n",
    "                          \"Extra quarters\": \"ExtraQuarters\",\n",
    "                          \"Extra equipment\": \"ExtraEquipment\",\n",
    "                          \"Upload date\": \"UploadDate\",\n",
    "                          \"Modify date\": \"ModifyDate\",\n",
    "                          \"Memorized count\": \"MemorizedCount\",\n",
    "                          \"Telephone\": \"Phone\",\n",
    "                          \"Coordinates\": \"Coords\"\n",
    "                         }, inplace=True)"
   ]
  },
  {
   "cell_type": "markdown",
   "metadata": {
    "colab_type": "text",
    "id": "-pfxG-37Xzqe"
   },
   "source": [
    "Executing cleaning:"
   ]
  },
  {
   "cell_type": "code",
   "execution_count": 5,
   "metadata": {
    "colab": {},
    "colab_type": "code",
    "id": "fuCQdqChXwDV",
    "scrolled": true
   },
   "outputs": [
    {
     "name": "stdout",
     "output_type": "stream",
     "text": [
      "Cleaning complete.\n"
     ]
    }
   ],
   "source": [
    "text_columns = [ \"City\", \"District\", \"BuildingType\", \"Heating\", \"InstallationType\" ]\n",
    "misc_columns = [ \"Street\", \"FlatNumber\", \"HouseNumber\", \"Year\" ]\n",
    "date_columns = [ \"UploadDate\", \"ModifyDate\" ]\n",
    "\n",
    "for col in text_columns:\n",
    "    flatsSale[col] = flatsSale[col].apply(lambda x: clean_text_cols(x))\n",
    "  \n",
    "for col in misc_columns:\n",
    "    flatsSale[col] = flatsSale[col].apply(lambda x: clean_misc_cols(x))\n",
    "  \n",
    "for col in date_columns:\n",
    "    flatsSale[col] = flatsSale[col].apply(lambda x: clean_date_cols(x))\n",
    " \n",
    "flatsSale[\"Phone\"] = flatsSale[\"Phone\"].apply(lambda x: clean_telephone_col(x))\n",
    "flatsSale[\"Coords\"] = flatsSale[\"Coords\"].apply(lambda x: clean_coordinates_col(x))\n",
    "flatsSale[\"Latitude\"] = flatsSale[\"Coords\"].apply(lambda x: add_latitude_col(x))\n",
    "flatsSale[\"Longitude\"] = flatsSale[\"Coords\"].apply(lambda x: add_longitude_col(x))\n",
    "flatsSale[\"Year\"] = flatsSale[\"Year\"].apply(lambda x: clean_year_col(x))\n",
    "print(\"Cleaning complete.\")"
   ]
  },
  {
   "cell_type": "markdown",
   "metadata": {
    "colab_type": "text",
    "id": "lxa-uoZ9eYhT"
   },
   "source": [
    "### Conclussions\n"
   ]
  },
  {
   "cell_type": "markdown",
   "metadata": {
    "colab_type": "text",
    "id": "32WxKdm7HALk"
   },
   "source": [
    "**What I have done:**\n",
    "*   Converted \"-\" to NaN values.\n",
    "*   Renamed 16 columns to better names.\n",
    "*   Cleaned columns with regex to preserve data format.\n",
    "\n",
    "Some cleaning with individual columns:<br> (Some columns were excluded, because of no significant changes\n",
    "or information regarding cleaning)"
   ]
  },
  {
   "cell_type": "code",
   "execution_count": 6,
   "metadata": {},
   "outputs": [
    {
     "data": {
      "text/html": [
       "<style  type=\"text/css\" >\n",
       "    #T_4db58aa8_e1d8_11e9_8e7c_d8cb8af59308row2_col0 {\n",
       "            color:  red;\n",
       "            font-weight: bold;\n",
       "        }    #T_4db58aa8_e1d8_11e9_8e7c_d8cb8af59308row2_col1 {\n",
       "            color:  red;\n",
       "            font-weight: bold;\n",
       "        }    #T_4db58aa8_e1d8_11e9_8e7c_d8cb8af59308row2_col2 {\n",
       "            color:  red;\n",
       "            font-weight: bold;\n",
       "        }    #T_4db58aa8_e1d8_11e9_8e7c_d8cb8af59308row3_col0 {\n",
       "            color:  red;\n",
       "            font-weight: bold;\n",
       "        }    #T_4db58aa8_e1d8_11e9_8e7c_d8cb8af59308row3_col1 {\n",
       "            color:  red;\n",
       "            font-weight: bold;\n",
       "        }    #T_4db58aa8_e1d8_11e9_8e7c_d8cb8af59308row3_col2 {\n",
       "            color:  red;\n",
       "            font-weight: bold;\n",
       "        }    #T_4db58aa8_e1d8_11e9_8e7c_d8cb8af59308row4_col0 {\n",
       "            color:  red;\n",
       "            font-weight: bold;\n",
       "        }    #T_4db58aa8_e1d8_11e9_8e7c_d8cb8af59308row4_col1 {\n",
       "            color:  red;\n",
       "            font-weight: bold;\n",
       "        }    #T_4db58aa8_e1d8_11e9_8e7c_d8cb8af59308row4_col2 {\n",
       "            color:  red;\n",
       "            font-weight: bold;\n",
       "        }    #T_4db58aa8_e1d8_11e9_8e7c_d8cb8af59308row9_col0 {\n",
       "            color:  red;\n",
       "            font-weight: bold;\n",
       "        }    #T_4db58aa8_e1d8_11e9_8e7c_d8cb8af59308row9_col1 {\n",
       "            color:  red;\n",
       "            font-weight: bold;\n",
       "        }    #T_4db58aa8_e1d8_11e9_8e7c_d8cb8af59308row9_col2 {\n",
       "            color:  red;\n",
       "            font-weight: bold;\n",
       "        }    #T_4db58aa8_e1d8_11e9_8e7c_d8cb8af59308row10_col0 {\n",
       "            color:  red;\n",
       "            font-weight: bold;\n",
       "        }    #T_4db58aa8_e1d8_11e9_8e7c_d8cb8af59308row10_col1 {\n",
       "            color:  red;\n",
       "            font-weight: bold;\n",
       "        }    #T_4db58aa8_e1d8_11e9_8e7c_d8cb8af59308row10_col2 {\n",
       "            color:  red;\n",
       "            font-weight: bold;\n",
       "        }    #T_4db58aa8_e1d8_11e9_8e7c_d8cb8af59308row11_col0 {\n",
       "            color:  red;\n",
       "            font-weight: bold;\n",
       "        }    #T_4db58aa8_e1d8_11e9_8e7c_d8cb8af59308row11_col1 {\n",
       "            color:  red;\n",
       "            font-weight: bold;\n",
       "        }    #T_4db58aa8_e1d8_11e9_8e7c_d8cb8af59308row11_col2 {\n",
       "            color:  red;\n",
       "            font-weight: bold;\n",
       "        }</style><table id=\"T_4db58aa8_e1d8_11e9_8e7c_d8cb8af59308\" ><thead>    <tr>        <th class=\"blank level0\" ></th>        <th class=\"col_heading level0 col0\" >Regex ran</th>        <th class=\"col_heading level0 col1\" >Number of rows converted to NaN</th>        <th class=\"col_heading level0 col2\" >NaN % of total values</th>    </tr>    <tr>        <th class=\"index_name level0\" >Column name</th>        <th class=\"blank\" ></th>        <th class=\"blank\" ></th>        <th class=\"blank\" ></th>    </tr></thead><tbody>\n",
       "                <tr>\n",
       "                        <th id=\"T_4db58aa8_e1d8_11e9_8e7c_d8cb8af59308level0_row0\" class=\"row_heading level0 row0\" >District</th>\n",
       "                        <td id=\"T_4db58aa8_e1d8_11e9_8e7c_d8cb8af59308row0_col0\" class=\"data row0 col0\" >Yes</td>\n",
       "                        <td id=\"T_4db58aa8_e1d8_11e9_8e7c_d8cb8af59308row0_col1\" class=\"data row0 col1\" >1599</td>\n",
       "                        <td id=\"T_4db58aa8_e1d8_11e9_8e7c_d8cb8af59308row0_col2\" class=\"data row0 col2\" >16.5067</td>\n",
       "            </tr>\n",
       "            <tr>\n",
       "                        <th id=\"T_4db58aa8_e1d8_11e9_8e7c_d8cb8af59308level0_row1\" class=\"row_heading level0 row1\" >Street</th>\n",
       "                        <td id=\"T_4db58aa8_e1d8_11e9_8e7c_d8cb8af59308row1_col0\" class=\"data row1 col0\" >Yes</td>\n",
       "                        <td id=\"T_4db58aa8_e1d8_11e9_8e7c_d8cb8af59308row1_col1\" class=\"data row1 col1\" >2</td>\n",
       "                        <td id=\"T_4db58aa8_e1d8_11e9_8e7c_d8cb8af59308row1_col2\" class=\"data row1 col2\" >0.02065</td>\n",
       "            </tr>\n",
       "            <tr>\n",
       "                        <th id=\"T_4db58aa8_e1d8_11e9_8e7c_d8cb8af59308level0_row2\" class=\"row_heading level0 row2\" >HouseCount</th>\n",
       "                        <td id=\"T_4db58aa8_e1d8_11e9_8e7c_d8cb8af59308row2_col0\" class=\"data row2 col0\" >No</td>\n",
       "                        <td id=\"T_4db58aa8_e1d8_11e9_8e7c_d8cb8af59308row2_col1\" class=\"data row2 col1\" >7031</td>\n",
       "                        <td id=\"T_4db58aa8_e1d8_11e9_8e7c_d8cb8af59308row2_col2\" class=\"data row2 col2\" >72.5818</td>\n",
       "            </tr>\n",
       "            <tr>\n",
       "                        <th id=\"T_4db58aa8_e1d8_11e9_8e7c_d8cb8af59308level0_row3\" class=\"row_heading level0 row3\" >FlatNumber</th>\n",
       "                        <td id=\"T_4db58aa8_e1d8_11e9_8e7c_d8cb8af59308row3_col0\" class=\"data row3 col0\" >Yes</td>\n",
       "                        <td id=\"T_4db58aa8_e1d8_11e9_8e7c_d8cb8af59308row3_col1\" class=\"data row3 col1\" >8575</td>\n",
       "                        <td id=\"T_4db58aa8_e1d8_11e9_8e7c_d8cb8af59308row3_col2\" class=\"data row3 col2\" >88.5207</td>\n",
       "            </tr>\n",
       "            <tr>\n",
       "                        <th id=\"T_4db58aa8_e1d8_11e9_8e7c_d8cb8af59308level0_row4\" class=\"row_heading level0 row4\" >HouseNumber</th>\n",
       "                        <td id=\"T_4db58aa8_e1d8_11e9_8e7c_d8cb8af59308row4_col0\" class=\"data row4 col0\" >Yes</td>\n",
       "                        <td id=\"T_4db58aa8_e1d8_11e9_8e7c_d8cb8af59308row4_col1\" class=\"data row4 col1\" >5595</td>\n",
       "                        <td id=\"T_4db58aa8_e1d8_11e9_8e7c_d8cb8af59308row4_col2\" class=\"data row4 col2\" >57.7578</td>\n",
       "            </tr>\n",
       "            <tr>\n",
       "                        <th id=\"T_4db58aa8_e1d8_11e9_8e7c_d8cb8af59308level0_row5\" class=\"row_heading level0 row5\" >Year</th>\n",
       "                        <td id=\"T_4db58aa8_e1d8_11e9_8e7c_d8cb8af59308row5_col0\" class=\"data row5 col0\" >Yes</td>\n",
       "                        <td id=\"T_4db58aa8_e1d8_11e9_8e7c_d8cb8af59308row5_col1\" class=\"data row5 col1\" >26</td>\n",
       "                        <td id=\"T_4db58aa8_e1d8_11e9_8e7c_d8cb8af59308row5_col2\" class=\"data row5 col2\" >0.2684</td>\n",
       "            </tr>\n",
       "            <tr>\n",
       "                        <th id=\"T_4db58aa8_e1d8_11e9_8e7c_d8cb8af59308level0_row6\" class=\"row_heading level0 row6\" >BuildingType</th>\n",
       "                        <td id=\"T_4db58aa8_e1d8_11e9_8e7c_d8cb8af59308row6_col0\" class=\"data row6 col0\" >Yes</td>\n",
       "                        <td id=\"T_4db58aa8_e1d8_11e9_8e7c_d8cb8af59308row6_col1\" class=\"data row6 col1\" >1</td>\n",
       "                        <td id=\"T_4db58aa8_e1d8_11e9_8e7c_d8cb8af59308row6_col2\" class=\"data row6 col2\" >0.01032</td>\n",
       "            </tr>\n",
       "            <tr>\n",
       "                        <th id=\"T_4db58aa8_e1d8_11e9_8e7c_d8cb8af59308level0_row7\" class=\"row_heading level0 row7\" >InstallationType</th>\n",
       "                        <td id=\"T_4db58aa8_e1d8_11e9_8e7c_d8cb8af59308row7_col0\" class=\"data row7 col0\" >Yes</td>\n",
       "                        <td id=\"T_4db58aa8_e1d8_11e9_8e7c_d8cb8af59308row7_col1\" class=\"data row7 col1\" >1</td>\n",
       "                        <td id=\"T_4db58aa8_e1d8_11e9_8e7c_d8cb8af59308row7_col2\" class=\"data row7 col2\" >0.01032</td>\n",
       "            </tr>\n",
       "            <tr>\n",
       "                        <th id=\"T_4db58aa8_e1d8_11e9_8e7c_d8cb8af59308level0_row8\" class=\"row_heading level0 row8\" >Specials</th>\n",
       "                        <td id=\"T_4db58aa8_e1d8_11e9_8e7c_d8cb8af59308row8_col0\" class=\"data row8 col0\" >No</td>\n",
       "                        <td id=\"T_4db58aa8_e1d8_11e9_8e7c_d8cb8af59308row8_col1\" class=\"data row8 col1\" >4737</td>\n",
       "                        <td id=\"T_4db58aa8_e1d8_11e9_8e7c_d8cb8af59308row8_col2\" class=\"data row8 col2\" >48.9006</td>\n",
       "            </tr>\n",
       "            <tr>\n",
       "                        <th id=\"T_4db58aa8_e1d8_11e9_8e7c_d8cb8af59308level0_row9\" class=\"row_heading level0 row9\" >ExtraQuarters</th>\n",
       "                        <td id=\"T_4db58aa8_e1d8_11e9_8e7c_d8cb8af59308row9_col0\" class=\"data row9 col0\" >No</td>\n",
       "                        <td id=\"T_4db58aa8_e1d8_11e9_8e7c_d8cb8af59308row9_col1\" class=\"data row9 col1\" >4922</td>\n",
       "                        <td id=\"T_4db58aa8_e1d8_11e9_8e7c_d8cb8af59308row9_col2\" class=\"data row9 col2\" >50.8104</td>\n",
       "            </tr>\n",
       "            <tr>\n",
       "                        <th id=\"T_4db58aa8_e1d8_11e9_8e7c_d8cb8af59308level0_row10\" class=\"row_heading level0 row10\" >ExtraEquipment</th>\n",
       "                        <td id=\"T_4db58aa8_e1d8_11e9_8e7c_d8cb8af59308row10_col0\" class=\"data row10 col0\" >No</td>\n",
       "                        <td id=\"T_4db58aa8_e1d8_11e9_8e7c_d8cb8af59308row10_col1\" class=\"data row10 col1\" >5651</td>\n",
       "                        <td id=\"T_4db58aa8_e1d8_11e9_8e7c_d8cb8af59308row10_col2\" class=\"data row10 col2\" >58.3359</td>\n",
       "            </tr>\n",
       "            <tr>\n",
       "                        <th id=\"T_4db58aa8_e1d8_11e9_8e7c_d8cb8af59308level0_row11\" class=\"row_heading level0 row11\" >Security</th>\n",
       "                        <td id=\"T_4db58aa8_e1d8_11e9_8e7c_d8cb8af59308row11_col0\" class=\"data row11 col0\" >No</td>\n",
       "                        <td id=\"T_4db58aa8_e1d8_11e9_8e7c_d8cb8af59308row11_col1\" class=\"data row11 col1\" >5097</td>\n",
       "                        <td id=\"T_4db58aa8_e1d8_11e9_8e7c_d8cb8af59308row11_col2\" class=\"data row11 col2\" >52.6169</td>\n",
       "            </tr>\n",
       "            <tr>\n",
       "                        <th id=\"T_4db58aa8_e1d8_11e9_8e7c_d8cb8af59308level0_row12\" class=\"row_heading level0 row12\" >MemorizedCount</th>\n",
       "                        <td id=\"T_4db58aa8_e1d8_11e9_8e7c_d8cb8af59308row12_col0\" class=\"data row12 col0\" >No</td>\n",
       "                        <td id=\"T_4db58aa8_e1d8_11e9_8e7c_d8cb8af59308row12_col1\" class=\"data row12 col1\" >1448</td>\n",
       "                        <td id=\"T_4db58aa8_e1d8_11e9_8e7c_d8cb8af59308row12_col2\" class=\"data row12 col2\" >14.9479</td>\n",
       "            </tr>\n",
       "            <tr>\n",
       "                        <th id=\"T_4db58aa8_e1d8_11e9_8e7c_d8cb8af59308level0_row13\" class=\"row_heading level0 row13\" >Phone</th>\n",
       "                        <td id=\"T_4db58aa8_e1d8_11e9_8e7c_d8cb8af59308row13_col0\" class=\"data row13 col0\" >No</td>\n",
       "                        <td id=\"T_4db58aa8_e1d8_11e9_8e7c_d8cb8af59308row13_col1\" class=\"data row13 col1\" >92</td>\n",
       "                        <td id=\"T_4db58aa8_e1d8_11e9_8e7c_d8cb8af59308row13_col2\" class=\"data row13 col2\" >0.94973</td>\n",
       "            </tr>\n",
       "            <tr>\n",
       "                        <th id=\"T_4db58aa8_e1d8_11e9_8e7c_d8cb8af59308level0_row14\" class=\"row_heading level0 row14\" >Coords</th>\n",
       "                        <td id=\"T_4db58aa8_e1d8_11e9_8e7c_d8cb8af59308row14_col0\" class=\"data row14 col0\" >No</td>\n",
       "                        <td id=\"T_4db58aa8_e1d8_11e9_8e7c_d8cb8af59308row14_col1\" class=\"data row14 col1\" >2869</td>\n",
       "                        <td id=\"T_4db58aa8_e1d8_11e9_8e7c_d8cb8af59308row14_col2\" class=\"data row14 col2\" >29.617</td>\n",
       "            </tr>\n",
       "            <tr>\n",
       "                        <th id=\"T_4db58aa8_e1d8_11e9_8e7c_d8cb8af59308level0_row15\" class=\"row_heading level0 row15\" >Latitude</th>\n",
       "                        <td id=\"T_4db58aa8_e1d8_11e9_8e7c_d8cb8af59308row15_col0\" class=\"data row15 col0\" >No</td>\n",
       "                        <td id=\"T_4db58aa8_e1d8_11e9_8e7c_d8cb8af59308row15_col1\" class=\"data row15 col1\" >2869</td>\n",
       "                        <td id=\"T_4db58aa8_e1d8_11e9_8e7c_d8cb8af59308row15_col2\" class=\"data row15 col2\" >29.617</td>\n",
       "            </tr>\n",
       "            <tr>\n",
       "                        <th id=\"T_4db58aa8_e1d8_11e9_8e7c_d8cb8af59308level0_row16\" class=\"row_heading level0 row16\" >Longitude</th>\n",
       "                        <td id=\"T_4db58aa8_e1d8_11e9_8e7c_d8cb8af59308row16_col0\" class=\"data row16 col0\" >No</td>\n",
       "                        <td id=\"T_4db58aa8_e1d8_11e9_8e7c_d8cb8af59308row16_col1\" class=\"data row16 col1\" >2869</td>\n",
       "                        <td id=\"T_4db58aa8_e1d8_11e9_8e7c_d8cb8af59308row16_col2\" class=\"data row16 col2\" >29.617</td>\n",
       "            </tr>\n",
       "    </tbody></table>"
      ],
      "text/plain": [
       "<pandas.io.formats.style.Styler at 0x1c854f53240>"
      ]
     },
     "execution_count": 6,
     "metadata": {},
     "output_type": "execute_result"
    }
   ],
   "source": [
    "def highlight_greaterthan(s):\n",
    "    column_name = \"NaN % of total values\"\n",
    "    is_max = pd.Series(data=False, index=s.index)\n",
    "    is_max[\"NaN % of total values\"] = s[\"NaN % of total values\"] >= 50\n",
    "    return ['color: red;font-weight:bold' if is_max.any() else '' for v in is_max]\n",
    "\n",
    "cleanStats = pd.DataFrame({ \"Regex ran\": [\"No\", \"Yes\", \"Yes\", \"No\", \"No\", \"No\", \"No\", \"No\",\n",
    "                                          \"No\", \"No\", \"No\", \"Yes\", \"Yes\", \"Yes\", \"Yes\", \"Yes\",\n",
    "                                          \"Yes\", \"No\", \"No\", \"No\", \"No\", \"No\", \"No\", \"No\",\n",
    "                                          \"No\", \"No\", \"No\", \"No\", \"No\"],\n",
    "                            \"Number of rows converted to NaN\":flatsSale.copy().isnull().sum() })\n",
    "\n",
    "cleanStats.index.name = \"Column name\"\n",
    "cleanStats[\"NaN % of total values\" ] = round((cleanStats[\"Number of rows converted to NaN\"] / 9687) * 100, 5)\n",
    "cleanStats = cleanStats[cleanStats[\"Number of rows converted to NaN\"] > 0]\n",
    "cleanStats.style.apply(highlight_greaterthan, axis=1)"
   ]
  },
  {
   "cell_type": "markdown",
   "metadata": {},
   "source": [
    "From the table above, because NaN values are occupying more than 50% in these columns, <br> I am going to remove these columns:<br>\n",
    "\n",
    "*    **HouseCount**\n",
    "*    **FlatNumber**\n",
    "*    **HouseNumber**\n",
    "*    **ExtraQuarters**\n",
    "*    **ExtraEquipment**\n",
    "*    **Security**\n",
    "*    **Coords** (removed because it no longer serves it's purpose)."
   ]
  },
  {
   "cell_type": "code",
   "execution_count": 7,
   "metadata": {
    "colab": {},
    "colab_type": "code",
    "id": "Vn4QS8eW4eS8"
   },
   "outputs": [],
   "source": [
    "flatsSale.drop([\"HouseCount\", \"FlatNumber\", \"FlatNumber\", \"HouseNumber\", \n",
    "                \"ExtraQuarters\", \"ExtraEquipment\", \"Security\",\"Coords\"], axis=1, inplace=True)"
   ]
  },
  {
   "cell_type": "markdown",
   "metadata": {
    "colab_type": "text",
    "id": "4rLv_WJQYZTB"
   },
   "source": [
    "## 3.Explore data\n",
    "\n",
    "First, we'll start by describing each column.\n",
    "\n",
    "<b>Flat location:</b><br>\n",
    "<div>\n",
    "    <table align=\"left\">\n",
    "      <tr>\n",
    "        <th>Column name</th>\n",
    "        <th>Description</th>\n",
    "      </tr>\n",
    "      <tr>\n",
    "        <td>City</td>\n",
    "        <td>Flat's city/district/region.</td> \n",
    "        <td>\n",
    "      </tr>\n",
    "      <tr>\n",
    "        <td>District</td>\n",
    "        <td>Flat's district (smaller location unit).</td> \n",
    "        <td>\n",
    "      </tr>            \n",
    "      <tr>\n",
    "        <td>Street</td>\n",
    "        <td>Street name.</td> \n",
    "      </tr>\n",
    "      <tr>\n",
    "          <td>Latitude</td>\n",
    "          <td>Flat's latitude coordinate.</td>\n",
    "      </tr>\n",
    "      <tr>\n",
    "          <td>Longitude</td>\n",
    "          <td>Flat's longitude coordinate.</td>\n",
    "      </tr>              \n",
    "    </table>\n",
    "</div>\n",
    "<br><br><br>\n",
    "<br><br><br>\n",
    "<br><br><br>\n",
    "<b>Flat price:</b><br>\n",
    "<div>\n",
    "    <table align=\"left\">\n",
    "      <tr>\n",
    "        <th>Column name</th>\n",
    "        <th>Description</th>\n",
    "      </tr>\n",
    "      <tr>\n",
    "          <td>Price</td>\n",
    "          <td>Flat's price in EUR.</td>\n",
    "      </tr>\n",
    "      <tr>\n",
    "          <td>Pricem2</td>\n",
    "          <td>Flat's price per square metre(m2).</td>\n",
    "      </tr>\n",
    "    </table>\n",
    "</div>\n",
    "<br><br><br>\n",
    "<br><br>\n",
    "<b>Flat contact:</b><br>\n",
    "<div>\n",
    "    <table align=\"left\">\n",
    "      <tr>\n",
    "        <th>Column name</th>\n",
    "        <th>Description</th>\n",
    "      </tr>\n",
    "      <tr>\n",
    "          <td>Link</td>\n",
    "          <td>Ad's url.</td>\n",
    "      </tr>\n",
    "      <tr>\n",
    "          <td>Phone</td>\n",
    "          <td>Flat's owner phone number.</td>\n",
    "      </tr>   \n",
    "    </table>\n",
    "</div>\n",
    "<br><br><br>\n",
    "<br><br> \n",
    "<b>Flat statistics:</b><br>\n",
    "<div>\n",
    "    <table align=\"left\">\n",
    "      <tr>\n",
    "          <td>MemorizedCount</td>\n",
    "          <td>Counter of how many people saved the ad.</td>\n",
    "      </tr>      \n",
    "       <tr>\n",
    "          <td>Views</td>\n",
    "          <td>View count of the ad.</td>\n",
    "      </tr> \n",
    "      <tr>\n",
    "          <td>UploadDate</td>\n",
    "          <td>Upload date of the ad.Format: YYYY-MM-DD</td>\n",
    "      </tr>      \n",
    "      <tr>\n",
    "          <td>ModifyDate</td>\n",
    "          <td>Modify date of the ad.Format: YYYY-MM-DD</td>\n",
    "      </tr>          \n",
    "    </table>\n",
    "</div>\n",
    "<br><br><br>\n",
    "<br><br><br>  \n",
    "<b>Flat general:</b><br>\n",
    "<div>\n",
    "    <table align=\"left\">     \n",
    "     <tr>\n",
    "          <td>Rooms</td>\n",
    "          <td>Flat's total room count.</td>\n",
    "      </tr>      \n",
    "      <tr>\n",
    "          <td>Area</td>\n",
    "          <td>Flat's area in square metres(m2).</td>\n",
    "      </tr>      \n",
    "      <tr>\n",
    "          <td>Floor</td>\n",
    "          <td>Flat's floor number in a building.</td>\n",
    "      </tr>      \n",
    "      <tr>\n",
    "          <td>TotalFloors</td>\n",
    "          <td>Total floors in a flat's building.</td>\n",
    "      </tr>      \n",
    "      <tr>\n",
    "          <td>HouseNumber (removed)</td>\n",
    "          <td>(Removed) Flat's house number</td>\n",
    "      </tr>\n",
    "      <tr>\n",
    "          <td>FlatNumber (removed)</td>\n",
    "          <td>(Removed) Flat's number in a building.</td>\n",
    "      </tr>\n",
    "      <tr>\n",
    "          <td>Year</td>\n",
    "          <td>Flat's building construction date, format: YYYY.</td>\n",
    "      </tr>      \n",
    "      <tr>\n",
    "          <td>BuildingType</td>\n",
    "          <td>Building type.</td>\n",
    "      </tr>      \n",
    "      <tr>\n",
    "          <td>Heating</td>\n",
    "          <td>Heating type.</td>\n",
    "      </tr>      \n",
    "      <tr>\n",
    "          <td>InstallationType</td>\n",
    "          <td>Finishing type.</td>\n",
    "      </tr>              \n",
    "    </table>\n",
    "</div>\n",
    "\n",
    "<br><br><br>\n",
    "<br><br><br>\n",
    "<br><br><br>\n",
    "<br><br><br>\n",
    "<br>\n",
    "<b>Flat detail info:</b><br>\n",
    "<div>\n",
    "    <table align=\"left\">         \n",
    "     <tr>\n",
    "          <td>Specials</td>\n",
    "          <td>Special items that describe a flat, e.g: flat can have new plumbing.</td>\n",
    "      </tr>     \n",
    "      <tr>\n",
    "          <td>ExtraQuarters</td>\n",
    "          <td>Special rooms that a flat has, e.g: flat can have a balcony.</td>\n",
    "      </tr>      \n",
    "      <tr>\n",
    "          <td>ExtraEquipment</td>\n",
    "          <td>Equipment that come with a flat, e.g: dishwasher.</td>\n",
    "      </tr>      \n",
    "      <tr>\n",
    "          <td>Security</td>\n",
    "          <td>Describes the security meassures that a particular flat employs, e.g: alarm</td>\n",
    "      </tr>              \n",
    "    </table>\n",
    "</div>"
   ]
  },
  {
   "cell_type": "markdown",
   "metadata": {
    "colab_type": "text",
    "id": "mrmi4zRtKAgJ"
   },
   "source": [
    "### Dataframe description (of numeric columns):"
   ]
  },
  {
   "cell_type": "code",
   "execution_count": 8,
   "metadata": {
    "colab": {
     "base_uri": "https://localhost:8080/",
     "height": 297
    },
    "colab_type": "code",
    "id": "n7DV-oy7KC5L",
    "outputId": "c0c5951a-d679-4c56-97f3-0844b0dc5316"
   },
   "outputs": [
    {
     "data": {
      "text/html": [
       "<div>\n",
       "<style scoped>\n",
       "    .dataframe tbody tr th:only-of-type {\n",
       "        vertical-align: middle;\n",
       "    }\n",
       "\n",
       "    .dataframe tbody tr th {\n",
       "        vertical-align: top;\n",
       "    }\n",
       "\n",
       "    .dataframe thead th {\n",
       "        text-align: right;\n",
       "    }\n",
       "</style>\n",
       "<table border=\"1\" class=\"dataframe\">\n",
       "  <thead>\n",
       "    <tr style=\"text-align: right;\">\n",
       "      <th></th>\n",
       "      <th>Price</th>\n",
       "      <th>Pricem2</th>\n",
       "      <th>Rooms</th>\n",
       "      <th>Area</th>\n",
       "      <th>Floor</th>\n",
       "      <th>TotalFloors</th>\n",
       "      <th>Year</th>\n",
       "      <th>MemorizedCount</th>\n",
       "      <th>Views</th>\n",
       "      <th>Latitude</th>\n",
       "      <th>Longitude</th>\n",
       "    </tr>\n",
       "  </thead>\n",
       "  <tbody>\n",
       "    <tr>\n",
       "      <th>count</th>\n",
       "      <td>9.687000e+03</td>\n",
       "      <td>9687.000000</td>\n",
       "      <td>9687.000000</td>\n",
       "      <td>9687.000000</td>\n",
       "      <td>9687.000000</td>\n",
       "      <td>9687.000000</td>\n",
       "      <td>9661.000000</td>\n",
       "      <td>8239.000000</td>\n",
       "      <td>9687.000000</td>\n",
       "      <td>6818.000000</td>\n",
       "      <td>6818.000000</td>\n",
       "    </tr>\n",
       "    <tr>\n",
       "      <th>mean</th>\n",
       "      <td>8.932581e+04</td>\n",
       "      <td>1385.707133</td>\n",
       "      <td>2.485702</td>\n",
       "      <td>61.142401</td>\n",
       "      <td>3.209766</td>\n",
       "      <td>5.205223</td>\n",
       "      <td>1988.356278</td>\n",
       "      <td>8.996723</td>\n",
       "      <td>1607.112315</td>\n",
       "      <td>55.135585</td>\n",
       "      <td>23.766287</td>\n",
       "    </tr>\n",
       "    <tr>\n",
       "      <th>std</th>\n",
       "      <td>9.845055e+04</td>\n",
       "      <td>852.489080</td>\n",
       "      <td>1.516506</td>\n",
       "      <td>42.387028</td>\n",
       "      <td>2.430699</td>\n",
       "      <td>3.434831</td>\n",
       "      <td>27.132986</td>\n",
       "      <td>11.433463</td>\n",
       "      <td>2854.692687</td>\n",
       "      <td>0.541535</td>\n",
       "      <td>1.636856</td>\n",
       "    </tr>\n",
       "    <tr>\n",
       "      <th>min</th>\n",
       "      <td>3.500000e+02</td>\n",
       "      <td>8.000000</td>\n",
       "      <td>1.000000</td>\n",
       "      <td>2.680000</td>\n",
       "      <td>0.000000</td>\n",
       "      <td>1.000000</td>\n",
       "      <td>1670.000000</td>\n",
       "      <td>1.000000</td>\n",
       "      <td>4.000000</td>\n",
       "      <td>54.000638</td>\n",
       "      <td>20.984907</td>\n",
       "    </tr>\n",
       "    <tr>\n",
       "      <th>25%</th>\n",
       "      <td>4.250000e+04</td>\n",
       "      <td>842.000000</td>\n",
       "      <td>2.000000</td>\n",
       "      <td>44.000000</td>\n",
       "      <td>2.000000</td>\n",
       "      <td>3.000000</td>\n",
       "      <td>1972.000000</td>\n",
       "      <td>2.000000</td>\n",
       "      <td>312.000000</td>\n",
       "      <td>54.698751</td>\n",
       "      <td>22.326820</td>\n",
       "    </tr>\n",
       "    <tr>\n",
       "      <th>50%</th>\n",
       "      <td>6.600000e+04</td>\n",
       "      <td>1191.000000</td>\n",
       "      <td>2.000000</td>\n",
       "      <td>55.100000</td>\n",
       "      <td>3.000000</td>\n",
       "      <td>5.000000</td>\n",
       "      <td>1989.000000</td>\n",
       "      <td>5.000000</td>\n",
       "      <td>782.000000</td>\n",
       "      <td>54.907141</td>\n",
       "      <td>23.986534</td>\n",
       "    </tr>\n",
       "    <tr>\n",
       "      <th>75%</th>\n",
       "      <td>1.030000e+05</td>\n",
       "      <td>1708.000000</td>\n",
       "      <td>3.000000</td>\n",
       "      <td>71.500000</td>\n",
       "      <td>4.000000</td>\n",
       "      <td>5.000000</td>\n",
       "      <td>2015.000000</td>\n",
       "      <td>11.000000</td>\n",
       "      <td>1783.000000</td>\n",
       "      <td>55.696285</td>\n",
       "      <td>25.262771</td>\n",
       "    </tr>\n",
       "    <tr>\n",
       "      <th>max</th>\n",
       "      <td>1.849000e+06</td>\n",
       "      <td>9386.000000</td>\n",
       "      <td>116.000000</td>\n",
       "      <td>2989.020000</td>\n",
       "      <td>33.000000</td>\n",
       "      <td>50.000000</td>\n",
       "      <td>2021.000000</td>\n",
       "      <td>142.000000</td>\n",
       "      <td>70676.000000</td>\n",
       "      <td>56.364013</td>\n",
       "      <td>26.675958</td>\n",
       "    </tr>\n",
       "  </tbody>\n",
       "</table>\n",
       "</div>"
      ],
      "text/plain": [
       "              Price      Pricem2        Rooms         Area        Floor  \\\n",
       "count  9.687000e+03  9687.000000  9687.000000  9687.000000  9687.000000   \n",
       "mean   8.932581e+04  1385.707133     2.485702    61.142401     3.209766   \n",
       "std    9.845055e+04   852.489080     1.516506    42.387028     2.430699   \n",
       "min    3.500000e+02     8.000000     1.000000     2.680000     0.000000   \n",
       "25%    4.250000e+04   842.000000     2.000000    44.000000     2.000000   \n",
       "50%    6.600000e+04  1191.000000     2.000000    55.100000     3.000000   \n",
       "75%    1.030000e+05  1708.000000     3.000000    71.500000     4.000000   \n",
       "max    1.849000e+06  9386.000000   116.000000  2989.020000    33.000000   \n",
       "\n",
       "       TotalFloors         Year  MemorizedCount         Views     Latitude  \\\n",
       "count  9687.000000  9661.000000     8239.000000   9687.000000  6818.000000   \n",
       "mean      5.205223  1988.356278        8.996723   1607.112315    55.135585   \n",
       "std       3.434831    27.132986       11.433463   2854.692687     0.541535   \n",
       "min       1.000000  1670.000000        1.000000      4.000000    54.000638   \n",
       "25%       3.000000  1972.000000        2.000000    312.000000    54.698751   \n",
       "50%       5.000000  1989.000000        5.000000    782.000000    54.907141   \n",
       "75%       5.000000  2015.000000       11.000000   1783.000000    55.696285   \n",
       "max      50.000000  2021.000000      142.000000  70676.000000    56.364013   \n",
       "\n",
       "         Longitude  \n",
       "count  6818.000000  \n",
       "mean     23.766287  \n",
       "std       1.636856  \n",
       "min      20.984907  \n",
       "25%      22.326820  \n",
       "50%      23.986534  \n",
       "75%      25.262771  \n",
       "max      26.675958  "
      ]
     },
     "execution_count": 8,
     "metadata": {},
     "output_type": "execute_result"
    }
   ],
   "source": [
    "flatsSale.describe()"
   ]
  },
  {
   "cell_type": "markdown",
   "metadata": {
    "colab_type": "text",
    "id": "pvzhFWqKKUpb"
   },
   "source": [
    "From the table above, I can make some observations(I encourage you to make some by yourself):\n",
    "\n",
    "**Price:**\n",
    "*   Cheapest flat: 350 EUR (about 1 minimum wage): <a href='https://www.aruodas.lt/butai-radviliskyje-baisogalos-mstl-grinkiskio-g-vi-turto-bankas-im-k-112021042-buveine-1-2753551/' target='_blank'>URL</a>\n",
    "*   Most expensive flat: 1 849 000 EUR or 5282 cheapest flats: <a target=' https://www.aruodas.lt/butai-vilniuje-senamiestyje-siauliu-g-parduodami-isskirtiniai-apartamentai-1-2754935/' target='_blank'>URL</a>\n",
    "*   Average price: ‭89,325.81‬ EUR.<br>\n",
    "That means that:\n",
    "with downpayment of 20% (‭17,865.162‬ EUR),<br>\n",
    "and with **500 EUR**(interest + monthly payment) payment,<br> one would need ‭142.921296‬ months or about **12** years to fully pay for a average flat.\n",
    "\n",
    "**Rooms:**\n",
    "*  Average rooms per flat is a bit about 2.5 rooms!\n",
    "\n",
    "**Floor:**\n",
    "*  Lowest flat is located on 0 floor(basement?!?): <a href='https://www.aruodas.lt/butai-vilniuje-naujamiestyje-a-gostauto-g-isskirtinis-butas-patalpos-centre-1-2772139/' target='_blank'>URL</a>\n",
    "*  Highest flat is located on 33th floor:\n",
    " <a href='https://www.aruodas.lt/butai-klaipedoje-centre-kuosu-g-kuosu-gatveje-parduodamas-2-ju-kambariu-butas-1-2744623/' target='_blank'>URL</a>\n",
    "\n",
    "\n",
    "**TotalFloors:**\n",
    "* Highest building has 50 floors, that's a skyscraper!<br>\n",
    "* Average height of a flat building is a bit above 5 floors. <br> That was expected, since you can go visit Žirmūnai or Šnipiškės in Vilnius or any other Vilnius district and you'll find by yourself.\n",
    "\n",
    "**Year:**\n",
    "* Oldest valid flat is in Vilnius Senamiestis: <a href='https://www.aruodas.lt/butai-vilniuje-senamiestyje-pilies-g-parduodama-158-kvm-prabangus-apartamentai-1-2757417/' target='_blank'>URL</a>\n",
    "* Future flat is here: <a href='https://www.aruodas.lt/butai-vilniuje-senamiestyje-zygimantu-g-zygimantu-12-namai-miesto-gyvenimo-1-2771125/' target='_blank'>URL</a>\n",
    "\n",
    "\n",
    "**MemorizedCount**\n",
    "*   Most memorized ad is:\n",
    " <a href='https://www.aruodas.lt/butai-vilniuje-zveryne-miglos-g-parduodamas-butas-karoliniskiu-draustinyje-1-2727927/' target='_blank'>URL</a> <br>\n",
    "Price for this flat is way below average, so maybe people memorize ads those prices are below the market ones?\n",
    "\n",
    "**Views:**\n",
    "*   Most viewed ad is: <a href='https://www.aruodas.lt/butai-vilniuje-pasilaiciuose-eitminu-g-3-asis-eitminu-namai-etapas-salia-irengta-1-1869374/' target='_blank'>URL</a>\n"
   ]
  },
  {
   "cell_type": "markdown",
   "metadata": {},
   "source": [
    "**Phone:**\n",
    "*  The best realtors, or the most active ones here(TOP-10):<br>\n",
    "<br>\n",
    "<div>\n",
    "    <table align=\"left\">\n",
    "      <tr>\n",
    "        <th>Realtor's phone number</th>\n",
    "        <th>Realtor's agency name</th>  \n",
    "        <th>Frequency</th>\n",
    "      </tr>\n",
    "      <tr>\n",
    "        <td>37065593900</td>\n",
    "        <td>Akorus Real Estate</td> \n",
    "        <td>74</td>\n",
    "      </tr>\n",
    "      <tr>\n",
    "        <td>37068755595</td>\n",
    "        <td>Rebaltc</td> \n",
    "        <td>49</td>\n",
    "      </tr>            \n",
    "      <tr>\n",
    "        <td>852112711</td>\n",
    "        <td>Vilnius municipality's public auctions</td> \n",
    "        <td>47</td>          \n",
    "      </tr>\n",
    "      <tr>\n",
    "        <td>37067419090</td>\n",
    "        <td>WEST CITY</td>\n",
    "        <td>45</td>          \n",
    "      </tr>\n",
    "      <tr>\n",
    "        <td>37060886551</td>\n",
    "        <td>Kurorto nekilnojamasis turtas</td>\n",
    "        <td>44</td>          \n",
    "      </tr>\n",
    "      <tr>\n",
    "        <td>37064767242</td>\n",
    "        <td>JURGITA JONAITYTĖ</td> \n",
    "        <td>41</td>\n",
    "      </tr>\n",
    "      <tr>\n",
    "        <td>37069998676</td>\n",
    "        <td>Capital</td> \n",
    "        <td>41</td>\n",
    "      </tr>            \n",
    "      <tr>\n",
    "        <td>37064892454</td>\n",
    "        <td>NT pulsas</td> \n",
    "        <td>37</td>          \n",
    "      </tr>\n",
    "      <tr>\n",
    "        <td>37065744365</td>\n",
    "        <td>Rebaltic</td>\n",
    "        <td>36</td>          \n",
    "      </tr>\n",
    "      <tr>\n",
    "        <td>37061855656</td>\n",
    "        <td>Capital</td>\n",
    "        <td>33</td>          \n",
    "      </tr>              \n",
    "    </table>\n",
    "</div> "
   ]
  },
  {
   "cell_type": "markdown",
   "metadata": {},
   "source": [
    "**General:**\n",
    "*   Both the max rooms(116!) and max area is from the same ad:<a href='https://www.aruodas.lt/butai-visagine-festivalio-g-vi-turto-bankas-im-k-112021042-buveine-1-2729839/' target='_blank'>url</a>\n",
    "    \n",
    "*   Most viewed ad and the most memorized one(MemorizedCount) are not for the same ad!\n"
   ]
  },
  {
   "cell_type": "markdown",
   "metadata": {
    "colab_type": "text",
    "id": "PSJH26zJe5qr"
   },
   "source": [
    "#### Links/data for information above:"
   ]
  },
  {
   "cell_type": "code",
   "execution_count": 9,
   "metadata": {
    "colab": {},
    "colab_type": "code",
    "id": "9KZ2n-okU_mU"
   },
   "outputs": [
    {
     "name": "stdout",
     "output_type": "stream",
     "text": [
      "\u001b[1mPrice:\u001b[0m\n",
      "Cheapest flat:  https://www.aruodas.lt/butai-radviliskyje-baisogalos-mstl-grinkiskio-g-vi-turto-bankas-im-k-112021042-buveine-1-2753551/\n",
      "Most expensive flat:  https://www.aruodas.lt/butai-vilniuje-senamiestyje-siauliu-g-parduodami-isskirtiniai-apartamentai-1-2754935/\n",
      "\u001b[1mFloor:\u001b[0m\n",
      "Lowest flat link:  https://www.aruodas.lt/butai-vilniuje-naujamiestyje-a-gostauto-g-isskirtinis-butas-patalpos-centre-1-2772139/\n",
      "Highest flat link:  https://www.aruodas.lt/butai-klaipedoje-centre-kuosu-g-kuosu-gatveje-parduodamas-2-ju-kambariu-butas-1-2744623/\n",
      "\u001b[1mTotalFloors:\u001b[0m\n",
      "Highest building:  https://www.aruodas.lt/butai-vilniuje-naujamiestyje-svitrigailos-g--butas-vertinamoje-naujamiescio-dalyje-1-2765423/\n",
      "\u001b[1mYear:\u001b[0m\n",
      "Oldest valid flat:  https://www.aruodas.lt/butai-vilniuje-senamiestyje-pilies-g-parduodama-158-kvm-prabangus-apartamentai-1-2757417/\n",
      "Youngest(Future) flat:  https://www.aruodas.lt/butai-vilniuje-senamiestyje-zygimantu-g-zygimantu-12-namai-miesto-gyvenimo-1-2771125/\n",
      "\u001b[1mMemorizedCount:\u001b[0m\n",
      "Most memorized flat link:  https://www.aruodas.lt/butai-vilniuje-zveryne-miglos-g-parduodamas-butas-karoliniskiu-draustinyje-1-2727927/\n",
      "\u001b[1mViews:\u001b[0m\n",
      "Most viewed flat:  https://www.aruodas.lt/butai-vilniuje-zveryne-miglos-g-parduodamas-butas-karoliniskiu-draustinyje-1-2727927/\n",
      "\u001b[1mPhone:\u001b[0m\n",
      "TOP-10 real estate agents: Phone\n",
      "37065593900    74\n",
      "37068755595    49\n",
      "852112711      47\n",
      "37067419090    45\n",
      "37060886551    44\n",
      "37064767242    41\n",
      "37069998676    41\n",
      "37064892454    37\n",
      "37065744365    36\n",
      "37061855656    33\n",
      "dtype: int64\n",
      "\u001b[1mGeneral:\u001b[0m\n",
      "Max rooms:  https://www.aruodas.lt/butai-visagine-festivalio-g-vi-turto-bankas-im-k-112021042-buveine-1-2729839/\n"
     ]
    }
   ],
   "source": [
    "print(\"\\033[1m\" + \"Price:\" + \"\\033[0m\")\n",
    "print(\"Cheapest flat: \", flatsSale[flatsSale[\"Price\"] == 350][\"Link\"].iloc[0])\n",
    "print(\"Most expensive flat: \", flatsSale[flatsSale[\"Price\"] == 1849000][\"Link\"].iloc[0])\n",
    "\n",
    "print(\"\\033[1m\" + \"Floor:\" + \"\\033[0m\")\n",
    "print(\"Lowest flat link: \", flatsSale[flatsSale['Floor'] == 0][\"Link\"].iloc[0])\n",
    "print(\"Highest flat link: \", flatsSale[flatsSale[\"Floor\"] == 33][\"Link\"].iloc[0])\n",
    "\n",
    "print(\"\\033[1m\" +\"TotalFloors:\" + \"\\033[0m\")\n",
    "print(\"Highest building: \", flatsSale[flatsSale[\"TotalFloors\"] == 50][\"Link\"].iloc[0])\n",
    "\n",
    "print(\"\\033[1m\" + \"Year:\" + \"\\033[0m\")\n",
    "print(\"Oldest valid flat: \", flatsSale[flatsSale[\"Year\"] == 1683][\"Link\"].iloc[0])\n",
    "print(\"Youngest(Future) flat: \", flatsSale[flatsSale[\"Year\"] == 2021][\"Link\"].iloc[0])\n",
    "\n",
    "print(\"\\033[1m\" + \"MemorizedCount:\" + \"\\033[0m\")\n",
    "print(\"Most memorized flat link: \", flatsSale[flatsSale[\"MemorizedCount\"] == 142][\"Link\"].iloc[0])\n",
    "\n",
    "print(\"\\033[1m\" + \"Views:\" + \"\\033[0m\")\n",
    "print(\"Most viewed flat: \", flatsSale[flatsSale[\"MemorizedCount\"] == 142][\"Link\"].iloc[0])\n",
    "\n",
    "print(\"\\033[1m\" + \"Phone:\" + \"\\033[0m\")\n",
    "print(\"TOP-10 real estate agents:\", flatsSale.groupby(\"Phone\").size().sort_values(ascending=False)[:10])\n",
    "\n",
    "print(\"\\033[1m\" + \"General:\" + \"\\033[0m\")\n",
    "print(\"Max rooms: \", flatsSale[flatsSale[\"Rooms\"] == 116][\"Link\"].iloc[0])"
   ]
  },
  {
   "cell_type": "markdown",
   "metadata": {
    "colab_type": "text",
    "id": "dAZEfCSIhrQ9"
   },
   "source": [
    "### Unique values in columns\n",
    "Not all columns provided because of size.<br>\n",
    "Feel free to experiment yourself."
   ]
  },
  {
   "cell_type": "markdown",
   "metadata": {
    "colab_type": "text",
    "id": "EwYwZEaSlWrm"
   },
   "source": [
    "#### City column (big list):"
   ]
  },
  {
   "cell_type": "code",
   "execution_count": 10,
   "metadata": {
    "colab": {},
    "colab_type": "code",
    "id": "geL6sD0hiSB7",
    "scrolled": true
   },
   "outputs": [
    {
     "name": "stdout",
     "output_type": "stream",
     "text": [
      "['Vilnius' 'Kaunas' 'Klaipėda' 'Kauno r. sav.' 'Neringos m.' 'Palanga'\n",
      " 'Kėdainių r. sav.' 'Kėdainių m.' 'Marijampolės m.' 'Druskininkų m.'\n",
      " 'Šiauliai' 'Molėtų m.' 'Mažeikių m.' 'Kretingos m.' 'Plungės m.'\n",
      " 'Švenčionių r. sav.' 'Vilniaus r. sav.' 'Radviliškio m.' 'Panevėžys'\n",
      " 'Biržų m.' 'Trakų r. sav.' 'Druskininkų sav.' 'Akmenės r. sav.' 'Alytus'\n",
      " 'Raseinių r. sav.' 'Ukmergės m.' 'Varėnos m.' 'Kaišiadorių m.'\n",
      " 'Zarasų r. sav.' 'Kretingos r. sav.' 'Klaipėdos r. sav.' 'Tauragės m.'\n",
      " 'Kaišiadorių r. sav.' 'Širvintų r. sav.' 'Biržų r. sav.' 'Jonavos m.'\n",
      " 'Visagino m.' 'Joniškio m.' 'Radviliškio r. sav.' 'Utenos m.' 'Kelmės m.'\n",
      " 'Anykščių m.' 'Ukmergės r. sav.' 'Rietavo m.' 'Birštono m.' 'Telšių m.'\n",
      " 'Lazdijų r. sav.' 'Šilutės r. sav.' 'Pasvalio m.' 'Rietavo sav.'\n",
      " 'Skuodo r. sav.' 'Telšių r. sav.' 'Širvintų m.' 'Elektrėnų m.'\n",
      " 'Jurbarko m.' 'Kazlų Rūdos m.' 'Šalčininkų m.' 'Šalčininkų r. sav.'\n",
      " 'Jonavos r. sav.' 'Tauragės r. sav.' 'Elektrėnų sav.' 'Šilutės m.'\n",
      " 'Panevėžio r. sav.' 'Raseinių m.' 'Šilalės m.' 'Pakruojo r. sav.'\n",
      " 'Kelmės r. sav.' 'Molėtų r. sav.' 'Šakių r. sav.' 'Joniškio r. sav.'\n",
      " 'Šiaulių r. sav.' 'Ignalinos r. sav.' 'Rokiškio r. sav.' 'Trakų m.'\n",
      " 'Varėnos r. sav.' 'Prienų m.' 'Vilkaviškio r. sav.' 'Lazdijų m.'\n",
      " 'Šakių m.' 'Kalvarijos sav.' 'Kupiškio r. sav.' 'Zarasų m.' 'Kupiškio m.'\n",
      " 'Alytaus r. sav.' 'Anykščių r. sav.' 'Prienų r. sav.' 'Pakruojo m.'\n",
      " 'Švenčionių m.' 'Pasvalio r. sav.' 'Jurbarko r. sav.' 'Marijampolės sav.'\n",
      " 'Vilkaviškio m.' 'Akmenės m.' 'Pagėgių m.' 'Ignalinos m.' 'Pagėgių sav.'\n",
      " 'Rokiškio m.' 'Šilalės r. sav.' 'Skuodo m.' 'Mažeikių r. sav.'\n",
      " 'Kalvarijos m.']\n"
     ]
    }
   ],
   "source": [
    "print(flatsSale[\"City\"].unique())"
   ]
  },
  {
   "cell_type": "markdown",
   "metadata": {
    "colab_type": "text",
    "id": "zxdA3ySCi3ae"
   },
   "source": [
    "#### Building types:"
   ]
  },
  {
   "cell_type": "code",
   "execution_count": 11,
   "metadata": {
    "colab": {
     "base_uri": "https://localhost:8080/",
     "height": 136
    },
    "colab_type": "code",
    "id": "n1bTcsEBi5T0",
    "outputId": "fc138752-9513-4264-f1b2-200c72877739",
    "scrolled": true
   },
   "outputs": [
    {
     "name": "stdout",
     "output_type": "stream",
     "text": [
      "['Mūrinis' 'Blokinis' 'Kita' 'Monolitinis' 'Karkasinis' 'Medinis'\n",
      " 'Rąstinis']\n"
     ]
    }
   ],
   "source": [
    "print(flatsSale[\"BuildingType\"].dropna().unique())"
   ]
  },
  {
   "cell_type": "markdown",
   "metadata": {
    "colab_type": "text",
    "id": "Ub8wl0z0jwiY"
   },
   "source": [
    "#### Districts (big list):"
   ]
  },
  {
   "cell_type": "code",
   "execution_count": 12,
   "metadata": {
    "colab": {},
    "colab_type": "code",
    "id": "NPJyz2usj0FH"
   },
   "outputs": [
    {
     "name": "stdout",
     "output_type": "stream",
     "text": [
      "[' Visoriai' ' Pilaitė' ' Burbiškės' ' Antakalnis' ' Šnipiškės'\n",
      " ' Naujamiestis' ' Pašilaičiai' ' Bajorai' ' Viršuliškės' ' Dainava'\n",
      " ' Žaliakalnis' ' Žemutiniai Kaniūkai' ' Šilainiai' ' Aleksotas'\n",
      " ' Šauliai' ' Mažasis kaimelis' ' Romainiai' ' Užliedžių k.'\n",
      " ' Ražiškių k.' ' Markučiai' ' Varpai' ' Lampėdžiai' ' Užupis'\n",
      " ' Baltupiai' ' Šeškinė' ' Gudžiūnų mstl.' ' Jeruzalė' ' Senamiestis'\n",
      " ' Šventoji' ' Lazdynėliai' ' Lazdynai' ' Vilijampolė' ' Tarandė'\n",
      " ' Centras' ' Balsiai' ' Degučiai' ' Saulėtekis' ' Aukštieji Šančiai'\n",
      " ' Naujininkai' ' Karoliniškės' ' Valakampiai' ' Verkiai' ' Freda'\n",
      " ' Lančiūnavos k.' ' Žirmūnai' ' Pelėdnagių k.' ' Giraitės k.' ' Žvėrynas'\n",
      " ' Vilainių k.' ' Kalnėnai' ' Žvejybos uostas' ' Fabijoniškės'\n",
      " ' Lieporiai' ' Eiguliai' ' Petrašiūnai' ' Švenčionėlių m.' ' Panemunė'\n",
      " ' Naujoji Vilnia' ' Pavilnys' ' Kaunas' ' Verduliai' ' Justiniškės'\n",
      " ' Bandužiai' ' Miškas' ' Klevinės vs.' ' Avižieniai' ' Alksnynė'\n",
      " ' Šiaurės miestelis' ' Melnragė' ' Poilsis' ' Rėkyva' ' Kulautuvos mstl.'\n",
      " ' Grigiškės' ' Kalniečiai' ' Laukininkai' ' Klaipėdos' ' Domeikavos k.'\n",
      " ' Sargėnai' ' Santariškės' ' Debrecenas' ' Pramonės' ' Lentvario m.'\n",
      " ' Leipalingio mstl.' ' Dainiai' ' Naujosios Akmenės m.' ' Vidzgiris'\n",
      " ' Gabšių k.' ' Kareivinės' ' Gytariai' ' Užtiltės k.' ' Klibių k.'\n",
      " ' Gargždų m.' ' Garliavos m.' ' Gudienos k.' ' Mokolai' ' Gudulinės k.'\n",
      " ' Likėnų k.' ' Šeduvos m.' ' Šimšė' ' Naujakiemis' ' Aukštkiemių k.'\n",
      " ' Aukštakalnis' ' Skaidiškių k.' ' Smeltė' ' Rumpiškės' ' Mokykla'\n",
      " ' Paupiai' ' Ariogalos m.' ' Kvietiškis' ' Varinės k.' ' Stetiškiai'\n",
      " ' Pilėnai' ' Veisiejų m.' ' Žemaičių Naumiesčio mstl.' ' Maldučių k.'\n",
      " ' Vaivados' ' Nausėdų k.' ' Ubiškės mstl.' ' Sirutiškio k.'\n",
      " ' Jonučių II k.' ' Tauralaukis' ' Tulpės' ' Rūdiškių m.'\n",
      " ' Klemiškės I k.' ' Kniaudiškis' ' Bukčiai' ' Salininkai'\n",
      " ' Baltosios Vokės m.' ' Ruklos mstl.' ' Eičių k.' ' Vievio m.'\n",
      " ' Mastaičių k.' ' Dembavos k.' ' Vilkpėdė' ' Raudondvario k.'\n",
      " ' Žemieji Šančiai' ' Žemaičiai' ' Krašuona' ' Petrašiūnų k.'\n",
      " ' Tytuvėnų m.' ' Dainavos k.' ' Pagirių k.' ' Arnionių I k.' ' Vingis'\n",
      " ' Panovių k.' ' Beržininkų k.' ' Užvenčio m.' ' Žardininkai'\n",
      " ' Rudaminos k.' ' Baltija' ' Kairių mstl.' ' Senųjų Trakų k.' ' Vyturių'\n",
      " ' Babtų mstl.' ' Berniūnų k.' ' Putinai' ' Rumšiškių mstl.'\n",
      " ' Linkmenų k.' ' Juodupės mstl.' ' Giruliai' ' Ginkūnai' ' Vėtrungė'\n",
      " ' Matuizų k.' ' Kybartų m.' ' Nemenčinės m.' ' Likiškėliai' ' Jungėnų k.'\n",
      " ' Žaliūkiai' ' Bekupės k.' ' Vaišvydava' ' Maišiagalos mstl.'\n",
      " ' Akademijos mstl.' ' Vytėnai' ' Šepetos k.' ' Kuršėnų m.'\n",
      " ' Naujųjų Valkininkų k.' ' Neveronių k.' ' Pakiršinio k.'\n",
      " ' Naujųjų Muniškių k.' ' Ankštakių k.' ' Juknaičių k.' ' Pilviškių mstl.'\n",
      " ' Kazitiškio k.' ' Molainiai' ' Gelgaudiškio m.' ' Simno m.'\n",
      " ' Priekulės m.' ' Jovariškių k.' ' Mačionių k.' ' Dauniškis'\n",
      " ' Žiežmarių m.' ' Papušynės k.' ' Vilkijos m.' ' Stakliškių k.' ' Rožės'\n",
      " ' Zokniai' ' Kalnelio Gražionių k.' ' Toleikių k.' ' Pravieniškių k.'\n",
      " ' Aukštutiniai Kaniūkai' ' Vandžiogalos mstl.' ' Paežerių k.'\n",
      " ' Madžiūnų k.' ' Alksniupių k.' ' Valčiūnų k.' ' Vidiškių k.'\n",
      " ' Rusnės mstl.' ' Kiemelių k.' ' Noreikiškių k.' ' Lybiškių k.'\n",
      " ' Katiliškių k.' ' Šiūparių k.' ' Lygialaukio k.' ' Pociūnų k.'\n",
      " ' Krekenavos mstl.' ' Gineitiškių k.' ' Ąžuolinės k.' ' Kuigalių k.'\n",
      " ' Smėlio' ' Pabradės m.' ' Gineitiškės' ' Aukštieji Paneriai' ' Rimkai'\n",
      " ' Dapkiškių k.' ' Kalvelių k.' ' Drevernos k.' ' Rokai' ' Viduklės mstl.'\n",
      " ' Šiaulių k.' ' Bendorių k.' ' Anavilio k.' ' Uliūnų k.'\n",
      " ' Aleksandrijos k.' ' Bartkuškio k.' ' Ginkūnų k.' ' Gėluvos k.'\n",
      " ' Jašiūnų mstl.' ' Filaretai' ' Saugų k.' ' Kužių mstl.' ' Pagrynių k.'\n",
      " ' Ramygalos m.' ' Rinkuškių k.' ' Pakalniškių k.' ' Veiviržėnų mstl.'\n",
      " ' Žibartonių k.' ' Subačiaus m.' ' Linksmakalnio k.' ' Veriškių k.'\n",
      " ' Žukų k.' ' Krakių mstl.' ' Dacijonų k.' ' Miežiškių mstl.'\n",
      " ' Skirlėnų k.' ' Bačiūnai' ' Giedraičių mstl.' ' Baltosios Vokės k.'\n",
      " ' Vyšniūnų k.' ' Merkinės mstl.' ' Vabalninko m.' ' Trakų Vokė'\n",
      " ' Žemieji Paneriai' ' Palemonas' ' Sportininkai' ' Dovilų mstl.' ' Rasos'\n",
      " ' Gruzdžių mstl.' ' Turniškės' ' Gubernija' ' Radailių k.'\n",
      " ' Dirvonėnų k.' ' Viečiūnų k.' ' Trušelių k.' ' Biruliškių k.'\n",
      " ' Vainotiškių k.' ' Skaistakalnis' ' Eišiškių m.' ' Trekas' ' Dvarčionys'\n",
      " ' Kreivalaužių k.' ' Seniavos k.' ' Užusalių k.' ' Paneriai' ' Plytinė'\n",
      " ' Letūkų k.' ' Raguvos mstl.' ' Baisogalos mstl.' ' Ringaudų k.'\n",
      " ' Rainių k.' ' Kairių k.' ' Didvyrių k.' ' Šilėnų k.' ' Kretingsodžio k.'\n",
      " ' Blinstrubiškių k.' ' Nemakščių mstl.' ' Didieji Gulbinai'\n",
      " ' Akmenytės k.' ' Amaliai' ' Nuotekų k.' ' Pagiriai' ' Bukiškio k.'\n",
      " ' Traksėdžių k.' ' Medelynas' ' Avižienių k.' ' Didžiųjų Kabiškių k.'\n",
      " ' Štadvilių k.' ' Liepkalnis' ' Klipščių k.' ' Radžiulių k.'\n",
      " ' Vaidotų k.' ' Staniūnų k.' ' Buivydiškių k.' ' Zujūnai'\n",
      " ' Naujojo Lentvario k.' ' Buivydiškės' ' Antavilis' ' Igliaukos k.'\n",
      " ' Turmanto mstl.' ' Naujųjų Elmininkų k.' ' Nemėžio k.'\n",
      " ' Liudvinavo mstl.' ' Prūdiškių k.' ' Naujamiesčio mstl.' ' Turgelių k.'\n",
      " ' Tabariškių k.' ' Jurdaičių k.' ' Smalininkų k.' ' Pakamonių k.'\n",
      " ' Gudų k.' ' Jonikaičių k.' ' Vilkyškių mstl.' ' Rukų k.'\n",
      " ' Trakininkų k.' ' Panemunės m.' ' Toliočių k.' ' Naujųjų Kietaviškių k.'\n",
      " ' Liūdynės k.' ' Endriejavo mstl.' ' Pajūrio mstl.' ' Kirtimai'\n",
      " ' Augustavo vs.' ' Juodiškių k.' ' Kvietinių k.' ' Medikonių k.'\n",
      " ' Venckų k.' ' Aleksandrija' ' Kairėnai' ' Mažųjų Zariškių k.'\n",
      " ' Žagarės m.' ' Sietyno k.' ' Ziniūnų k.' ' Samališkės k.'\n",
      " ' Grigaičių k.' ' Stasiūnų k.' ' Tyrulių mstl.' ' Meškuičių mstl.'\n",
      " ' Karmėlavos mstl.' ' Kluonalių k.' ' Linkuvos m.' ' Vaivadiškių k.'\n",
      " ' Karmėlavos II k.' ' Tuščiaulių k.' ' Pavartyčių k.' ' Linkaičių k.'\n",
      " ' Tarvydų k.' ' Kiškių k.' ' Sugintų k.' ' Degučių k.' ' Kalakutiškės k.'\n",
      " ' Viekšnių m.' ' Aknystų k.' ' Julijanavos k.' ' Pandėlio m.'\n",
      " ' Šapnagių k.' ' Kačerginės mstl.' ' Teleičių k.' ' Puskelnių k.'\n",
      " ' Skaudvilės m.' ' Ventos m.' ' Muniškių k.' ' Ažuožerių k.'\n",
      " ' Salų mstl.' ' Guronių k.' ' Vartų k.' ' Balninkų k.' ' Rimėnų k.'\n",
      " ' Šventupės k.' ' Rubežiaus k.' ' Kruonio mstl.' ' Gataučių k.'\n",
      " ' Užupių k.' ' Didžiasalio k.' ' Laičių k.' ' Girkalių k.' ' Sutkūnų k.'\n",
      " ' Šlapaberžės k.' ' Papilio mstl.' ' Miežaičių k.' ' Laibgalių k.'\n",
      " ' Samylų k.' ' Plinkšių k.' ' Svėdasų mstl.' ' Karklės k.'\n",
      " ' Aukštųjų Kaplių k.' ' Balbieriškio mstl.' ' Narsiečių k.'\n",
      " ' Berkinėnų k.' ' Tarpučiai' ' Padubysio k.' ' Velžio k.'\n",
      " ' Kurklių II k.' ' Grinkiškio mstl.' ' Pagynės k.' ' Žeimelio mstl.'\n",
      " ' Joniškėlio m.' ' Šilagalio k.' ' Užusieniai' ' Smėlynės k.'\n",
      " ' Voškonių k.' ' Dotnuvos mstl.' ' Laugalio k.' ' Vėliučionių k.'\n",
      " ' Padauguvėlės k.']\n"
     ]
    }
   ],
   "source": [
    "print(flatsSale[\"District\"].dropna().unique())"
   ]
  },
  {
   "cell_type": "markdown",
   "metadata": {},
   "source": [
    "#### Rooms"
   ]
  },
  {
   "cell_type": "code",
   "execution_count": 13,
   "metadata": {},
   "outputs": [
    {
     "name": "stdout",
     "output_type": "stream",
     "text": [
      "[2, 3, 1, 4, 7, 5, 15, 6, 8, 10, 11, 116]\n"
     ]
    }
   ],
   "source": [
    "print(flatsSale[\"Rooms\"].unique().tolist())"
   ]
  },
  {
   "cell_type": "markdown",
   "metadata": {},
   "source": [
    "#### Year"
   ]
  },
  {
   "cell_type": "code",
   "execution_count": 14,
   "metadata": {},
   "outputs": [
    {
     "name": "stdout",
     "output_type": "stream",
     "text": [
      "[1670.0, 1683.0, 1800.0, 1809.0, 1850.0, 1852.0, 1860.0, 1867.0, 1870.0, 1872.0, 1880.0, 1882.0, 1883.0, 1885.0, 1886.0, 1888.0, 1889.0, 1890.0, 1891.0, 1892.0, 1894.0, 1896.0, 1897.0, 1898.0, 1899.0, 1900.0, 1901.0, 1902.0, 1903.0, 1904.0, 1905.0, 1907.0, 1908.0, 1909.0, 1910.0, 1911.0, 1912.0, 1913.0, 1914.0, 1915.0, 1916.0, 1917.0, 1918.0, 1919.0, 1920.0, 1921.0, 1922.0, 1923.0, 1924.0, 1925.0, 1926.0, 1927.0, 1928.0, 1929.0, 1930.0, 1931.0, 1932.0, 1933.0, 1934.0, 1935.0, 1936.0, 1937.0, 1938.0, 1939.0, 1940.0, 1942.0, 1943.0, 1945.0, 1946.0, 1947.0, 1948.0, 1949.0, 1950.0, 1951.0, 1952.0, 1953.0, 1954.0, 1955.0, 1956.0, 1957.0, 1958.0, 1959.0, 1960.0, 1961.0, 1962.0, 1963.0, 1964.0, 1965.0, 1966.0, 1967.0, 1968.0, 1969.0, 1970.0, 1971.0, 1972.0, 1973.0, 1974.0, 1975.0, 1976.0, 1977.0, 1978.0, 1979.0, 1980.0, 1981.0, 1982.0, 1983.0, 1984.0, 1985.0, 1986.0, 1987.0, 1988.0, 1989.0, 1990.0, 1991.0, 1992.0, 1993.0, 1994.0, 1995.0, 1996.0, 1997.0, 1998.0, 1999.0, 2000.0, 2001.0, 2002.0, 2003.0, 2004.0, 2005.0, 2006.0, 2007.0, 2008.0, 2009.0, 2010.0, 2011.0, 2012.0, 2013.0, 2014.0, 2015.0, 2016.0, 2017.0, 2018.0, 2019.0, 2020.0, 2021.0, nan]\n"
     ]
    }
   ],
   "source": [
    "sa = flatsSale[\"Year\"].sort_values(ascending=True).unique().tolist()\n",
    "print(sa)"
   ]
  },
  {
   "cell_type": "markdown",
   "metadata": {},
   "source": [
    "### Correlation"
   ]
  },
  {
   "cell_type": "code",
   "execution_count": 15,
   "metadata": {
    "scrolled": false
   },
   "outputs": [
    {
     "data": {
      "text/html": [
       "<style  type=\"text/css\" >\n",
       "    #T_4e132fb0_e1d8_11e9_828f_d8cb8af59308row0_col0 {\n",
       "            color:  black;\n",
       "        }    #T_4e132fb0_e1d8_11e9_828f_d8cb8af59308row0_col1 {\n",
       "            color:  #FF5334;\n",
       "        }    #T_4e132fb0_e1d8_11e9_828f_d8cb8af59308row0_col2 {\n",
       "            color:  #FF9987;\n",
       "        }    #T_4e132fb0_e1d8_11e9_828f_d8cb8af59308row0_col3 {\n",
       "            color:  #FF9987;\n",
       "        }    #T_4e132fb0_e1d8_11e9_828f_d8cb8af59308row0_col4 {\n",
       "            color:  None;\n",
       "        }    #T_4e132fb0_e1d8_11e9_828f_d8cb8af59308row0_col5 {\n",
       "            color:  None;\n",
       "        }    #T_4e132fb0_e1d8_11e9_828f_d8cb8af59308row0_col6 {\n",
       "            color:  None;\n",
       "        }    #T_4e132fb0_e1d8_11e9_828f_d8cb8af59308row0_col7 {\n",
       "            color:  None;\n",
       "        }    #T_4e132fb0_e1d8_11e9_828f_d8cb8af59308row0_col8 {\n",
       "            color:  None;\n",
       "        }    #T_4e132fb0_e1d8_11e9_828f_d8cb8af59308row0_col9 {\n",
       "            color:  None;\n",
       "        }    #T_4e132fb0_e1d8_11e9_828f_d8cb8af59308row0_col10 {\n",
       "            color:  None;\n",
       "        }    #T_4e132fb0_e1d8_11e9_828f_d8cb8af59308row1_col0 {\n",
       "            color:  #FF5334;\n",
       "        }    #T_4e132fb0_e1d8_11e9_828f_d8cb8af59308row1_col1 {\n",
       "            color:  black;\n",
       "        }    #T_4e132fb0_e1d8_11e9_828f_d8cb8af59308row1_col2 {\n",
       "            color:  None;\n",
       "        }    #T_4e132fb0_e1d8_11e9_828f_d8cb8af59308row1_col3 {\n",
       "            color:  None;\n",
       "        }    #T_4e132fb0_e1d8_11e9_828f_d8cb8af59308row1_col4 {\n",
       "            color:  None;\n",
       "        }    #T_4e132fb0_e1d8_11e9_828f_d8cb8af59308row1_col5 {\n",
       "            color:  None;\n",
       "        }    #T_4e132fb0_e1d8_11e9_828f_d8cb8af59308row1_col6 {\n",
       "            color:  #FF9987;\n",
       "        }    #T_4e132fb0_e1d8_11e9_828f_d8cb8af59308row1_col7 {\n",
       "            color:  None;\n",
       "        }    #T_4e132fb0_e1d8_11e9_828f_d8cb8af59308row1_col8 {\n",
       "            color:  None;\n",
       "        }    #T_4e132fb0_e1d8_11e9_828f_d8cb8af59308row1_col9 {\n",
       "            color:  None;\n",
       "        }    #T_4e132fb0_e1d8_11e9_828f_d8cb8af59308row1_col10 {\n",
       "            color:  None;\n",
       "        }    #T_4e132fb0_e1d8_11e9_828f_d8cb8af59308row2_col0 {\n",
       "            color:  #FF9987;\n",
       "        }    #T_4e132fb0_e1d8_11e9_828f_d8cb8af59308row2_col1 {\n",
       "            color:  None;\n",
       "        }    #T_4e132fb0_e1d8_11e9_828f_d8cb8af59308row2_col2 {\n",
       "            color:  black;\n",
       "        }    #T_4e132fb0_e1d8_11e9_828f_d8cb8af59308row2_col3 {\n",
       "            color:  #FF5334;\n",
       "        }    #T_4e132fb0_e1d8_11e9_828f_d8cb8af59308row2_col4 {\n",
       "            color:  None;\n",
       "        }    #T_4e132fb0_e1d8_11e9_828f_d8cb8af59308row2_col5 {\n",
       "            color:  None;\n",
       "        }    #T_4e132fb0_e1d8_11e9_828f_d8cb8af59308row2_col6 {\n",
       "            color:  None;\n",
       "        }    #T_4e132fb0_e1d8_11e9_828f_d8cb8af59308row2_col7 {\n",
       "            color:  None;\n",
       "        }    #T_4e132fb0_e1d8_11e9_828f_d8cb8af59308row2_col8 {\n",
       "            color:  None;\n",
       "        }    #T_4e132fb0_e1d8_11e9_828f_d8cb8af59308row2_col9 {\n",
       "            color:  None;\n",
       "        }    #T_4e132fb0_e1d8_11e9_828f_d8cb8af59308row2_col10 {\n",
       "            color:  None;\n",
       "        }    #T_4e132fb0_e1d8_11e9_828f_d8cb8af59308row3_col0 {\n",
       "            color:  #FF9987;\n",
       "        }    #T_4e132fb0_e1d8_11e9_828f_d8cb8af59308row3_col1 {\n",
       "            color:  None;\n",
       "        }    #T_4e132fb0_e1d8_11e9_828f_d8cb8af59308row3_col2 {\n",
       "            color:  #FF5334;\n",
       "        }    #T_4e132fb0_e1d8_11e9_828f_d8cb8af59308row3_col3 {\n",
       "            color:  black;\n",
       "        }    #T_4e132fb0_e1d8_11e9_828f_d8cb8af59308row3_col4 {\n",
       "            color:  None;\n",
       "        }    #T_4e132fb0_e1d8_11e9_828f_d8cb8af59308row3_col5 {\n",
       "            color:  None;\n",
       "        }    #T_4e132fb0_e1d8_11e9_828f_d8cb8af59308row3_col6 {\n",
       "            color:  None;\n",
       "        }    #T_4e132fb0_e1d8_11e9_828f_d8cb8af59308row3_col7 {\n",
       "            color:  None;\n",
       "        }    #T_4e132fb0_e1d8_11e9_828f_d8cb8af59308row3_col8 {\n",
       "            color:  None;\n",
       "        }    #T_4e132fb0_e1d8_11e9_828f_d8cb8af59308row3_col9 {\n",
       "            color:  None;\n",
       "        }    #T_4e132fb0_e1d8_11e9_828f_d8cb8af59308row3_col10 {\n",
       "            color:  None;\n",
       "        }    #T_4e132fb0_e1d8_11e9_828f_d8cb8af59308row4_col0 {\n",
       "            color:  None;\n",
       "        }    #T_4e132fb0_e1d8_11e9_828f_d8cb8af59308row4_col1 {\n",
       "            color:  None;\n",
       "        }    #T_4e132fb0_e1d8_11e9_828f_d8cb8af59308row4_col2 {\n",
       "            color:  None;\n",
       "        }    #T_4e132fb0_e1d8_11e9_828f_d8cb8af59308row4_col3 {\n",
       "            color:  None;\n",
       "        }    #T_4e132fb0_e1d8_11e9_828f_d8cb8af59308row4_col4 {\n",
       "            color:  black;\n",
       "        }    #T_4e132fb0_e1d8_11e9_828f_d8cb8af59308row4_col5 {\n",
       "            color:  #FF7456;\n",
       "        }    #T_4e132fb0_e1d8_11e9_828f_d8cb8af59308row4_col6 {\n",
       "            color:  None;\n",
       "        }    #T_4e132fb0_e1d8_11e9_828f_d8cb8af59308row4_col7 {\n",
       "            color:  None;\n",
       "        }    #T_4e132fb0_e1d8_11e9_828f_d8cb8af59308row4_col8 {\n",
       "            color:  None;\n",
       "        }    #T_4e132fb0_e1d8_11e9_828f_d8cb8af59308row4_col9 {\n",
       "            color:  None;\n",
       "        }    #T_4e132fb0_e1d8_11e9_828f_d8cb8af59308row4_col10 {\n",
       "            color:  None;\n",
       "        }    #T_4e132fb0_e1d8_11e9_828f_d8cb8af59308row5_col0 {\n",
       "            color:  None;\n",
       "        }    #T_4e132fb0_e1d8_11e9_828f_d8cb8af59308row5_col1 {\n",
       "            color:  None;\n",
       "        }    #T_4e132fb0_e1d8_11e9_828f_d8cb8af59308row5_col2 {\n",
       "            color:  None;\n",
       "        }    #T_4e132fb0_e1d8_11e9_828f_d8cb8af59308row5_col3 {\n",
       "            color:  None;\n",
       "        }    #T_4e132fb0_e1d8_11e9_828f_d8cb8af59308row5_col4 {\n",
       "            color:  #FF7456;\n",
       "        }    #T_4e132fb0_e1d8_11e9_828f_d8cb8af59308row5_col5 {\n",
       "            color:  black;\n",
       "        }    #T_4e132fb0_e1d8_11e9_828f_d8cb8af59308row5_col6 {\n",
       "            color:  #FF9987;\n",
       "        }    #T_4e132fb0_e1d8_11e9_828f_d8cb8af59308row5_col7 {\n",
       "            color:  None;\n",
       "        }    #T_4e132fb0_e1d8_11e9_828f_d8cb8af59308row5_col8 {\n",
       "            color:  None;\n",
       "        }    #T_4e132fb0_e1d8_11e9_828f_d8cb8af59308row5_col9 {\n",
       "            color:  None;\n",
       "        }    #T_4e132fb0_e1d8_11e9_828f_d8cb8af59308row5_col10 {\n",
       "            color:  None;\n",
       "        }    #T_4e132fb0_e1d8_11e9_828f_d8cb8af59308row6_col0 {\n",
       "            color:  None;\n",
       "        }    #T_4e132fb0_e1d8_11e9_828f_d8cb8af59308row6_col1 {\n",
       "            color:  #FF9987;\n",
       "        }    #T_4e132fb0_e1d8_11e9_828f_d8cb8af59308row6_col2 {\n",
       "            color:  None;\n",
       "        }    #T_4e132fb0_e1d8_11e9_828f_d8cb8af59308row6_col3 {\n",
       "            color:  None;\n",
       "        }    #T_4e132fb0_e1d8_11e9_828f_d8cb8af59308row6_col4 {\n",
       "            color:  None;\n",
       "        }    #T_4e132fb0_e1d8_11e9_828f_d8cb8af59308row6_col5 {\n",
       "            color:  #FF9987;\n",
       "        }    #T_4e132fb0_e1d8_11e9_828f_d8cb8af59308row6_col6 {\n",
       "            color:  black;\n",
       "        }    #T_4e132fb0_e1d8_11e9_828f_d8cb8af59308row6_col7 {\n",
       "            color:  None;\n",
       "        }    #T_4e132fb0_e1d8_11e9_828f_d8cb8af59308row6_col8 {\n",
       "            color:  None;\n",
       "        }    #T_4e132fb0_e1d8_11e9_828f_d8cb8af59308row6_col9 {\n",
       "            color:  None;\n",
       "        }    #T_4e132fb0_e1d8_11e9_828f_d8cb8af59308row6_col10 {\n",
       "            color:  None;\n",
       "        }    #T_4e132fb0_e1d8_11e9_828f_d8cb8af59308row7_col0 {\n",
       "            color:  None;\n",
       "        }    #T_4e132fb0_e1d8_11e9_828f_d8cb8af59308row7_col1 {\n",
       "            color:  None;\n",
       "        }    #T_4e132fb0_e1d8_11e9_828f_d8cb8af59308row7_col2 {\n",
       "            color:  None;\n",
       "        }    #T_4e132fb0_e1d8_11e9_828f_d8cb8af59308row7_col3 {\n",
       "            color:  None;\n",
       "        }    #T_4e132fb0_e1d8_11e9_828f_d8cb8af59308row7_col4 {\n",
       "            color:  None;\n",
       "        }    #T_4e132fb0_e1d8_11e9_828f_d8cb8af59308row7_col5 {\n",
       "            color:  None;\n",
       "        }    #T_4e132fb0_e1d8_11e9_828f_d8cb8af59308row7_col6 {\n",
       "            color:  None;\n",
       "        }    #T_4e132fb0_e1d8_11e9_828f_d8cb8af59308row7_col7 {\n",
       "            color:  black;\n",
       "        }    #T_4e132fb0_e1d8_11e9_828f_d8cb8af59308row7_col8 {\n",
       "            color:  #FF9987;\n",
       "        }    #T_4e132fb0_e1d8_11e9_828f_d8cb8af59308row7_col9 {\n",
       "            color:  None;\n",
       "        }    #T_4e132fb0_e1d8_11e9_828f_d8cb8af59308row7_col10 {\n",
       "            color:  #FF9987;\n",
       "        }    #T_4e132fb0_e1d8_11e9_828f_d8cb8af59308row8_col0 {\n",
       "            color:  None;\n",
       "        }    #T_4e132fb0_e1d8_11e9_828f_d8cb8af59308row8_col1 {\n",
       "            color:  None;\n",
       "        }    #T_4e132fb0_e1d8_11e9_828f_d8cb8af59308row8_col2 {\n",
       "            color:  None;\n",
       "        }    #T_4e132fb0_e1d8_11e9_828f_d8cb8af59308row8_col3 {\n",
       "            color:  None;\n",
       "        }    #T_4e132fb0_e1d8_11e9_828f_d8cb8af59308row8_col4 {\n",
       "            color:  None;\n",
       "        }    #T_4e132fb0_e1d8_11e9_828f_d8cb8af59308row8_col5 {\n",
       "            color:  None;\n",
       "        }    #T_4e132fb0_e1d8_11e9_828f_d8cb8af59308row8_col6 {\n",
       "            color:  None;\n",
       "        }    #T_4e132fb0_e1d8_11e9_828f_d8cb8af59308row8_col7 {\n",
       "            color:  #FF9987;\n",
       "        }    #T_4e132fb0_e1d8_11e9_828f_d8cb8af59308row8_col8 {\n",
       "            color:  black;\n",
       "        }    #T_4e132fb0_e1d8_11e9_828f_d8cb8af59308row8_col9 {\n",
       "            color:  None;\n",
       "        }    #T_4e132fb0_e1d8_11e9_828f_d8cb8af59308row8_col10 {\n",
       "            color:  None;\n",
       "        }    #T_4e132fb0_e1d8_11e9_828f_d8cb8af59308row9_col0 {\n",
       "            color:  None;\n",
       "        }    #T_4e132fb0_e1d8_11e9_828f_d8cb8af59308row9_col1 {\n",
       "            color:  None;\n",
       "        }    #T_4e132fb0_e1d8_11e9_828f_d8cb8af59308row9_col2 {\n",
       "            color:  None;\n",
       "        }    #T_4e132fb0_e1d8_11e9_828f_d8cb8af59308row9_col3 {\n",
       "            color:  None;\n",
       "        }    #T_4e132fb0_e1d8_11e9_828f_d8cb8af59308row9_col4 {\n",
       "            color:  None;\n",
       "        }    #T_4e132fb0_e1d8_11e9_828f_d8cb8af59308row9_col5 {\n",
       "            color:  None;\n",
       "        }    #T_4e132fb0_e1d8_11e9_828f_d8cb8af59308row9_col6 {\n",
       "            color:  None;\n",
       "        }    #T_4e132fb0_e1d8_11e9_828f_d8cb8af59308row9_col7 {\n",
       "            color:  None;\n",
       "        }    #T_4e132fb0_e1d8_11e9_828f_d8cb8af59308row9_col8 {\n",
       "            color:  None;\n",
       "        }    #T_4e132fb0_e1d8_11e9_828f_d8cb8af59308row9_col9 {\n",
       "            color:  black;\n",
       "        }    #T_4e132fb0_e1d8_11e9_828f_d8cb8af59308row9_col10 {\n",
       "            color:  None;\n",
       "        }    #T_4e132fb0_e1d8_11e9_828f_d8cb8af59308row10_col0 {\n",
       "            color:  None;\n",
       "        }    #T_4e132fb0_e1d8_11e9_828f_d8cb8af59308row10_col1 {\n",
       "            color:  None;\n",
       "        }    #T_4e132fb0_e1d8_11e9_828f_d8cb8af59308row10_col2 {\n",
       "            color:  None;\n",
       "        }    #T_4e132fb0_e1d8_11e9_828f_d8cb8af59308row10_col3 {\n",
       "            color:  None;\n",
       "        }    #T_4e132fb0_e1d8_11e9_828f_d8cb8af59308row10_col4 {\n",
       "            color:  None;\n",
       "        }    #T_4e132fb0_e1d8_11e9_828f_d8cb8af59308row10_col5 {\n",
       "            color:  None;\n",
       "        }    #T_4e132fb0_e1d8_11e9_828f_d8cb8af59308row10_col6 {\n",
       "            color:  None;\n",
       "        }    #T_4e132fb0_e1d8_11e9_828f_d8cb8af59308row10_col7 {\n",
       "            color:  #FF9987;\n",
       "        }    #T_4e132fb0_e1d8_11e9_828f_d8cb8af59308row10_col8 {\n",
       "            color:  None;\n",
       "        }    #T_4e132fb0_e1d8_11e9_828f_d8cb8af59308row10_col9 {\n",
       "            color:  None;\n",
       "        }    #T_4e132fb0_e1d8_11e9_828f_d8cb8af59308row10_col10 {\n",
       "            color:  black;\n",
       "        }</style><table id=\"T_4e132fb0_e1d8_11e9_828f_d8cb8af59308\" ><thead>    <tr>        <th class=\"blank level0\" ></th>        <th class=\"col_heading level0 col0\" >Price</th>        <th class=\"col_heading level0 col1\" >Pricem2</th>        <th class=\"col_heading level0 col2\" >Rooms</th>        <th class=\"col_heading level0 col3\" >Area</th>        <th class=\"col_heading level0 col4\" >Floor</th>        <th class=\"col_heading level0 col5\" >TotalFloors</th>        <th class=\"col_heading level0 col6\" >Year</th>        <th class=\"col_heading level0 col7\" >MemorizedCount</th>        <th class=\"col_heading level0 col8\" >Views</th>        <th class=\"col_heading level0 col9\" >Latitude</th>        <th class=\"col_heading level0 col10\" >Longitude</th>    </tr></thead><tbody>\n",
       "                <tr>\n",
       "                        <th id=\"T_4e132fb0_e1d8_11e9_828f_d8cb8af59308level0_row0\" class=\"row_heading level0 row0\" >Price</th>\n",
       "                        <td id=\"T_4e132fb0_e1d8_11e9_828f_d8cb8af59308row0_col0\" class=\"data row0 col0\" >1</td>\n",
       "                        <td id=\"T_4e132fb0_e1d8_11e9_828f_d8cb8af59308row0_col1\" class=\"data row0 col1\" >0.736312</td>\n",
       "                        <td id=\"T_4e132fb0_e1d8_11e9_828f_d8cb8af59308row0_col2\" class=\"data row0 col2\" >0.28078</td>\n",
       "                        <td id=\"T_4e132fb0_e1d8_11e9_828f_d8cb8af59308row0_col3\" class=\"data row0 col3\" >0.479501</td>\n",
       "                        <td id=\"T_4e132fb0_e1d8_11e9_828f_d8cb8af59308row0_col4\" class=\"data row0 col4\" >0.135435</td>\n",
       "                        <td id=\"T_4e132fb0_e1d8_11e9_828f_d8cb8af59308row0_col5\" class=\"data row0 col5\" >0.0953174</td>\n",
       "                        <td id=\"T_4e132fb0_e1d8_11e9_828f_d8cb8af59308row0_col6\" class=\"data row0 col6\" >0.158057</td>\n",
       "                        <td id=\"T_4e132fb0_e1d8_11e9_828f_d8cb8af59308row0_col7\" class=\"data row0 col7\" >0.00252341</td>\n",
       "                        <td id=\"T_4e132fb0_e1d8_11e9_828f_d8cb8af59308row0_col8\" class=\"data row0 col8\" >-0.0118711</td>\n",
       "                        <td id=\"T_4e132fb0_e1d8_11e9_828f_d8cb8af59308row0_col9\" class=\"data row0 col9\" >-0.240044</td>\n",
       "                        <td id=\"T_4e132fb0_e1d8_11e9_828f_d8cb8af59308row0_col10\" class=\"data row0 col10\" >0.190725</td>\n",
       "            </tr>\n",
       "            <tr>\n",
       "                        <th id=\"T_4e132fb0_e1d8_11e9_828f_d8cb8af59308level0_row1\" class=\"row_heading level0 row1\" >Pricem2</th>\n",
       "                        <td id=\"T_4e132fb0_e1d8_11e9_828f_d8cb8af59308row1_col0\" class=\"data row1 col0\" >0.736312</td>\n",
       "                        <td id=\"T_4e132fb0_e1d8_11e9_828f_d8cb8af59308row1_col1\" class=\"data row1 col1\" >1</td>\n",
       "                        <td id=\"T_4e132fb0_e1d8_11e9_828f_d8cb8af59308row1_col2\" class=\"data row1 col2\" >0.0392856</td>\n",
       "                        <td id=\"T_4e132fb0_e1d8_11e9_828f_d8cb8af59308row1_col3\" class=\"data row1 col3\" >0.127329</td>\n",
       "                        <td id=\"T_4e132fb0_e1d8_11e9_828f_d8cb8af59308row1_col4\" class=\"data row1 col4\" >0.0467791</td>\n",
       "                        <td id=\"T_4e132fb0_e1d8_11e9_828f_d8cb8af59308row1_col5\" class=\"data row1 col5\" >0.0718871</td>\n",
       "                        <td id=\"T_4e132fb0_e1d8_11e9_828f_d8cb8af59308row1_col6\" class=\"data row1 col6\" >0.27134</td>\n",
       "                        <td id=\"T_4e132fb0_e1d8_11e9_828f_d8cb8af59308row1_col7\" class=\"data row1 col7\" >0.0895439</td>\n",
       "                        <td id=\"T_4e132fb0_e1d8_11e9_828f_d8cb8af59308row1_col8\" class=\"data row1 col8\" >-0.0143228</td>\n",
       "                        <td id=\"T_4e132fb0_e1d8_11e9_828f_d8cb8af59308row1_col9\" class=\"data row1 col9\" >-0.298895</td>\n",
       "                        <td id=\"T_4e132fb0_e1d8_11e9_828f_d8cb8af59308row1_col10\" class=\"data row1 col10\" >0.185137</td>\n",
       "            </tr>\n",
       "            <tr>\n",
       "                        <th id=\"T_4e132fb0_e1d8_11e9_828f_d8cb8af59308level0_row2\" class=\"row_heading level0 row2\" >Rooms</th>\n",
       "                        <td id=\"T_4e132fb0_e1d8_11e9_828f_d8cb8af59308row2_col0\" class=\"data row2 col0\" >0.28078</td>\n",
       "                        <td id=\"T_4e132fb0_e1d8_11e9_828f_d8cb8af59308row2_col1\" class=\"data row2 col1\" >0.0392856</td>\n",
       "                        <td id=\"T_4e132fb0_e1d8_11e9_828f_d8cb8af59308row2_col2\" class=\"data row2 col2\" >1</td>\n",
       "                        <td id=\"T_4e132fb0_e1d8_11e9_828f_d8cb8af59308row2_col3\" class=\"data row2 col3\" >0.898707</td>\n",
       "                        <td id=\"T_4e132fb0_e1d8_11e9_828f_d8cb8af59308row2_col4\" class=\"data row2 col4\" >-0.00848492</td>\n",
       "                        <td id=\"T_4e132fb0_e1d8_11e9_828f_d8cb8af59308row2_col5\" class=\"data row2 col5\" >-0.0140044</td>\n",
       "                        <td id=\"T_4e132fb0_e1d8_11e9_828f_d8cb8af59308row2_col6\" class=\"data row2 col6\" >0.0436046</td>\n",
       "                        <td id=\"T_4e132fb0_e1d8_11e9_828f_d8cb8af59308row2_col7\" class=\"data row2 col7\" >-0.0250268</td>\n",
       "                        <td id=\"T_4e132fb0_e1d8_11e9_828f_d8cb8af59308row2_col8\" class=\"data row2 col8\" >-0.0142134</td>\n",
       "                        <td id=\"T_4e132fb0_e1d8_11e9_828f_d8cb8af59308row2_col9\" class=\"data row2 col9\" >-0.0400878</td>\n",
       "                        <td id=\"T_4e132fb0_e1d8_11e9_828f_d8cb8af59308row2_col10\" class=\"data row2 col10\" >0.0612007</td>\n",
       "            </tr>\n",
       "            <tr>\n",
       "                        <th id=\"T_4e132fb0_e1d8_11e9_828f_d8cb8af59308level0_row3\" class=\"row_heading level0 row3\" >Area</th>\n",
       "                        <td id=\"T_4e132fb0_e1d8_11e9_828f_d8cb8af59308row3_col0\" class=\"data row3 col0\" >0.479501</td>\n",
       "                        <td id=\"T_4e132fb0_e1d8_11e9_828f_d8cb8af59308row3_col1\" class=\"data row3 col1\" >0.127329</td>\n",
       "                        <td id=\"T_4e132fb0_e1d8_11e9_828f_d8cb8af59308row3_col2\" class=\"data row3 col2\" >0.898707</td>\n",
       "                        <td id=\"T_4e132fb0_e1d8_11e9_828f_d8cb8af59308row3_col3\" class=\"data row3 col3\" >1</td>\n",
       "                        <td id=\"T_4e132fb0_e1d8_11e9_828f_d8cb8af59308row3_col4\" class=\"data row3 col4\" >0.0530737</td>\n",
       "                        <td id=\"T_4e132fb0_e1d8_11e9_828f_d8cb8af59308row3_col5\" class=\"data row3 col5\" >0.041019</td>\n",
       "                        <td id=\"T_4e132fb0_e1d8_11e9_828f_d8cb8af59308row3_col6\" class=\"data row3 col6\" >0.0599351</td>\n",
       "                        <td id=\"T_4e132fb0_e1d8_11e9_828f_d8cb8af59308row3_col7\" class=\"data row3 col7\" >-0.0482328</td>\n",
       "                        <td id=\"T_4e132fb0_e1d8_11e9_828f_d8cb8af59308row3_col8\" class=\"data row3 col8\" >-0.0203894</td>\n",
       "                        <td id=\"T_4e132fb0_e1d8_11e9_828f_d8cb8af59308row3_col9\" class=\"data row3 col9\" >-0.0648202</td>\n",
       "                        <td id=\"T_4e132fb0_e1d8_11e9_828f_d8cb8af59308row3_col10\" class=\"data row3 col10\" >0.0784683</td>\n",
       "            </tr>\n",
       "            <tr>\n",
       "                        <th id=\"T_4e132fb0_e1d8_11e9_828f_d8cb8af59308level0_row4\" class=\"row_heading level0 row4\" >Floor</th>\n",
       "                        <td id=\"T_4e132fb0_e1d8_11e9_828f_d8cb8af59308row4_col0\" class=\"data row4 col0\" >0.135435</td>\n",
       "                        <td id=\"T_4e132fb0_e1d8_11e9_828f_d8cb8af59308row4_col1\" class=\"data row4 col1\" >0.0467791</td>\n",
       "                        <td id=\"T_4e132fb0_e1d8_11e9_828f_d8cb8af59308row4_col2\" class=\"data row4 col2\" >-0.00848492</td>\n",
       "                        <td id=\"T_4e132fb0_e1d8_11e9_828f_d8cb8af59308row4_col3\" class=\"data row4 col3\" >0.0530737</td>\n",
       "                        <td id=\"T_4e132fb0_e1d8_11e9_828f_d8cb8af59308row4_col4\" class=\"data row4 col4\" >1</td>\n",
       "                        <td id=\"T_4e132fb0_e1d8_11e9_828f_d8cb8af59308row4_col5\" class=\"data row4 col5\" >0.680559</td>\n",
       "                        <td id=\"T_4e132fb0_e1d8_11e9_828f_d8cb8af59308row4_col6\" class=\"data row4 col6\" >0.103907</td>\n",
       "                        <td id=\"T_4e132fb0_e1d8_11e9_828f_d8cb8af59308row4_col7\" class=\"data row4 col7\" >-0.0135847</td>\n",
       "                        <td id=\"T_4e132fb0_e1d8_11e9_828f_d8cb8af59308row4_col8\" class=\"data row4 col8\" >-0.0200233</td>\n",
       "                        <td id=\"T_4e132fb0_e1d8_11e9_828f_d8cb8af59308row4_col9\" class=\"data row4 col9\" >-0.0131565</td>\n",
       "                        <td id=\"T_4e132fb0_e1d8_11e9_828f_d8cb8af59308row4_col10\" class=\"data row4 col10\" >-0.0169555</td>\n",
       "            </tr>\n",
       "            <tr>\n",
       "                        <th id=\"T_4e132fb0_e1d8_11e9_828f_d8cb8af59308level0_row5\" class=\"row_heading level0 row5\" >TotalFloors</th>\n",
       "                        <td id=\"T_4e132fb0_e1d8_11e9_828f_d8cb8af59308row5_col0\" class=\"data row5 col0\" >0.0953174</td>\n",
       "                        <td id=\"T_4e132fb0_e1d8_11e9_828f_d8cb8af59308row5_col1\" class=\"data row5 col1\" >0.0718871</td>\n",
       "                        <td id=\"T_4e132fb0_e1d8_11e9_828f_d8cb8af59308row5_col2\" class=\"data row5 col2\" >-0.0140044</td>\n",
       "                        <td id=\"T_4e132fb0_e1d8_11e9_828f_d8cb8af59308row5_col3\" class=\"data row5 col3\" >0.041019</td>\n",
       "                        <td id=\"T_4e132fb0_e1d8_11e9_828f_d8cb8af59308row5_col4\" class=\"data row5 col4\" >0.680559</td>\n",
       "                        <td id=\"T_4e132fb0_e1d8_11e9_828f_d8cb8af59308row5_col5\" class=\"data row5 col5\" >1</td>\n",
       "                        <td id=\"T_4e132fb0_e1d8_11e9_828f_d8cb8af59308row5_col6\" class=\"data row5 col6\" >0.210779</td>\n",
       "                        <td id=\"T_4e132fb0_e1d8_11e9_828f_d8cb8af59308row5_col7\" class=\"data row5 col7\" >-0.0131083</td>\n",
       "                        <td id=\"T_4e132fb0_e1d8_11e9_828f_d8cb8af59308row5_col8\" class=\"data row5 col8\" >-0.0438194</td>\n",
       "                        <td id=\"T_4e132fb0_e1d8_11e9_828f_d8cb8af59308row5_col9\" class=\"data row5 col9\" >-0.0292046</td>\n",
       "                        <td id=\"T_4e132fb0_e1d8_11e9_828f_d8cb8af59308row5_col10\" class=\"data row5 col10\" >-0.0245724</td>\n",
       "            </tr>\n",
       "            <tr>\n",
       "                        <th id=\"T_4e132fb0_e1d8_11e9_828f_d8cb8af59308level0_row6\" class=\"row_heading level0 row6\" >Year</th>\n",
       "                        <td id=\"T_4e132fb0_e1d8_11e9_828f_d8cb8af59308row6_col0\" class=\"data row6 col0\" >0.158057</td>\n",
       "                        <td id=\"T_4e132fb0_e1d8_11e9_828f_d8cb8af59308row6_col1\" class=\"data row6 col1\" >0.27134</td>\n",
       "                        <td id=\"T_4e132fb0_e1d8_11e9_828f_d8cb8af59308row6_col2\" class=\"data row6 col2\" >0.0436046</td>\n",
       "                        <td id=\"T_4e132fb0_e1d8_11e9_828f_d8cb8af59308row6_col3\" class=\"data row6 col3\" >0.0599351</td>\n",
       "                        <td id=\"T_4e132fb0_e1d8_11e9_828f_d8cb8af59308row6_col4\" class=\"data row6 col4\" >0.103907</td>\n",
       "                        <td id=\"T_4e132fb0_e1d8_11e9_828f_d8cb8af59308row6_col5\" class=\"data row6 col5\" >0.210779</td>\n",
       "                        <td id=\"T_4e132fb0_e1d8_11e9_828f_d8cb8af59308row6_col6\" class=\"data row6 col6\" >1</td>\n",
       "                        <td id=\"T_4e132fb0_e1d8_11e9_828f_d8cb8af59308row6_col7\" class=\"data row6 col7\" >-0.0129993</td>\n",
       "                        <td id=\"T_4e132fb0_e1d8_11e9_828f_d8cb8af59308row6_col8\" class=\"data row6 col8\" >-0.0414964</td>\n",
       "                        <td id=\"T_4e132fb0_e1d8_11e9_828f_d8cb8af59308row6_col9\" class=\"data row6 col9\" >-0.0963175</td>\n",
       "                        <td id=\"T_4e132fb0_e1d8_11e9_828f_d8cb8af59308row6_col10\" class=\"data row6 col10\" >0.0312933</td>\n",
       "            </tr>\n",
       "            <tr>\n",
       "                        <th id=\"T_4e132fb0_e1d8_11e9_828f_d8cb8af59308level0_row7\" class=\"row_heading level0 row7\" >MemorizedCount</th>\n",
       "                        <td id=\"T_4e132fb0_e1d8_11e9_828f_d8cb8af59308row7_col0\" class=\"data row7 col0\" >0.00252341</td>\n",
       "                        <td id=\"T_4e132fb0_e1d8_11e9_828f_d8cb8af59308row7_col1\" class=\"data row7 col1\" >0.0895439</td>\n",
       "                        <td id=\"T_4e132fb0_e1d8_11e9_828f_d8cb8af59308row7_col2\" class=\"data row7 col2\" >-0.0250268</td>\n",
       "                        <td id=\"T_4e132fb0_e1d8_11e9_828f_d8cb8af59308row7_col3\" class=\"data row7 col3\" >-0.0482328</td>\n",
       "                        <td id=\"T_4e132fb0_e1d8_11e9_828f_d8cb8af59308row7_col4\" class=\"data row7 col4\" >-0.0135847</td>\n",
       "                        <td id=\"T_4e132fb0_e1d8_11e9_828f_d8cb8af59308row7_col5\" class=\"data row7 col5\" >-0.0131083</td>\n",
       "                        <td id=\"T_4e132fb0_e1d8_11e9_828f_d8cb8af59308row7_col6\" class=\"data row7 col6\" >-0.0129993</td>\n",
       "                        <td id=\"T_4e132fb0_e1d8_11e9_828f_d8cb8af59308row7_col7\" class=\"data row7 col7\" >1</td>\n",
       "                        <td id=\"T_4e132fb0_e1d8_11e9_828f_d8cb8af59308row7_col8\" class=\"data row7 col8\" >0.417306</td>\n",
       "                        <td id=\"T_4e132fb0_e1d8_11e9_828f_d8cb8af59308row7_col9\" class=\"data row7 col9\" >-0.222577</td>\n",
       "                        <td id=\"T_4e132fb0_e1d8_11e9_828f_d8cb8af59308row7_col10\" class=\"data row7 col10\" >0.214501</td>\n",
       "            </tr>\n",
       "            <tr>\n",
       "                        <th id=\"T_4e132fb0_e1d8_11e9_828f_d8cb8af59308level0_row8\" class=\"row_heading level0 row8\" >Views</th>\n",
       "                        <td id=\"T_4e132fb0_e1d8_11e9_828f_d8cb8af59308row8_col0\" class=\"data row8 col0\" >-0.0118711</td>\n",
       "                        <td id=\"T_4e132fb0_e1d8_11e9_828f_d8cb8af59308row8_col1\" class=\"data row8 col1\" >-0.0143228</td>\n",
       "                        <td id=\"T_4e132fb0_e1d8_11e9_828f_d8cb8af59308row8_col2\" class=\"data row8 col2\" >-0.0142134</td>\n",
       "                        <td id=\"T_4e132fb0_e1d8_11e9_828f_d8cb8af59308row8_col3\" class=\"data row8 col3\" >-0.0203894</td>\n",
       "                        <td id=\"T_4e132fb0_e1d8_11e9_828f_d8cb8af59308row8_col4\" class=\"data row8 col4\" >-0.0200233</td>\n",
       "                        <td id=\"T_4e132fb0_e1d8_11e9_828f_d8cb8af59308row8_col5\" class=\"data row8 col5\" >-0.0438194</td>\n",
       "                        <td id=\"T_4e132fb0_e1d8_11e9_828f_d8cb8af59308row8_col6\" class=\"data row8 col6\" >-0.0414964</td>\n",
       "                        <td id=\"T_4e132fb0_e1d8_11e9_828f_d8cb8af59308row8_col7\" class=\"data row8 col7\" >0.417306</td>\n",
       "                        <td id=\"T_4e132fb0_e1d8_11e9_828f_d8cb8af59308row8_col8\" class=\"data row8 col8\" >1</td>\n",
       "                        <td id=\"T_4e132fb0_e1d8_11e9_828f_d8cb8af59308row8_col9\" class=\"data row8 col9\" >-0.0508142</td>\n",
       "                        <td id=\"T_4e132fb0_e1d8_11e9_828f_d8cb8af59308row8_col10\" class=\"data row8 col10\" >0.052572</td>\n",
       "            </tr>\n",
       "            <tr>\n",
       "                        <th id=\"T_4e132fb0_e1d8_11e9_828f_d8cb8af59308level0_row9\" class=\"row_heading level0 row9\" >Latitude</th>\n",
       "                        <td id=\"T_4e132fb0_e1d8_11e9_828f_d8cb8af59308row9_col0\" class=\"data row9 col0\" >-0.240044</td>\n",
       "                        <td id=\"T_4e132fb0_e1d8_11e9_828f_d8cb8af59308row9_col1\" class=\"data row9 col1\" >-0.298895</td>\n",
       "                        <td id=\"T_4e132fb0_e1d8_11e9_828f_d8cb8af59308row9_col2\" class=\"data row9 col2\" >-0.0400878</td>\n",
       "                        <td id=\"T_4e132fb0_e1d8_11e9_828f_d8cb8af59308row9_col3\" class=\"data row9 col3\" >-0.0648202</td>\n",
       "                        <td id=\"T_4e132fb0_e1d8_11e9_828f_d8cb8af59308row9_col4\" class=\"data row9 col4\" >-0.0131565</td>\n",
       "                        <td id=\"T_4e132fb0_e1d8_11e9_828f_d8cb8af59308row9_col5\" class=\"data row9 col5\" >-0.0292046</td>\n",
       "                        <td id=\"T_4e132fb0_e1d8_11e9_828f_d8cb8af59308row9_col6\" class=\"data row9 col6\" >-0.0963175</td>\n",
       "                        <td id=\"T_4e132fb0_e1d8_11e9_828f_d8cb8af59308row9_col7\" class=\"data row9 col7\" >-0.222577</td>\n",
       "                        <td id=\"T_4e132fb0_e1d8_11e9_828f_d8cb8af59308row9_col8\" class=\"data row9 col8\" >-0.0508142</td>\n",
       "                        <td id=\"T_4e132fb0_e1d8_11e9_828f_d8cb8af59308row9_col9\" class=\"data row9 col9\" >1</td>\n",
       "                        <td id=\"T_4e132fb0_e1d8_11e9_828f_d8cb8af59308row9_col10\" class=\"data row9 col10\" >-0.752212</td>\n",
       "            </tr>\n",
       "            <tr>\n",
       "                        <th id=\"T_4e132fb0_e1d8_11e9_828f_d8cb8af59308level0_row10\" class=\"row_heading level0 row10\" >Longitude</th>\n",
       "                        <td id=\"T_4e132fb0_e1d8_11e9_828f_d8cb8af59308row10_col0\" class=\"data row10 col0\" >0.190725</td>\n",
       "                        <td id=\"T_4e132fb0_e1d8_11e9_828f_d8cb8af59308row10_col1\" class=\"data row10 col1\" >0.185137</td>\n",
       "                        <td id=\"T_4e132fb0_e1d8_11e9_828f_d8cb8af59308row10_col2\" class=\"data row10 col2\" >0.0612007</td>\n",
       "                        <td id=\"T_4e132fb0_e1d8_11e9_828f_d8cb8af59308row10_col3\" class=\"data row10 col3\" >0.0784683</td>\n",
       "                        <td id=\"T_4e132fb0_e1d8_11e9_828f_d8cb8af59308row10_col4\" class=\"data row10 col4\" >-0.0169555</td>\n",
       "                        <td id=\"T_4e132fb0_e1d8_11e9_828f_d8cb8af59308row10_col5\" class=\"data row10 col5\" >-0.0245724</td>\n",
       "                        <td id=\"T_4e132fb0_e1d8_11e9_828f_d8cb8af59308row10_col6\" class=\"data row10 col6\" >0.0312933</td>\n",
       "                        <td id=\"T_4e132fb0_e1d8_11e9_828f_d8cb8af59308row10_col7\" class=\"data row10 col7\" >0.214501</td>\n",
       "                        <td id=\"T_4e132fb0_e1d8_11e9_828f_d8cb8af59308row10_col8\" class=\"data row10 col8\" >0.052572</td>\n",
       "                        <td id=\"T_4e132fb0_e1d8_11e9_828f_d8cb8af59308row10_col9\" class=\"data row10 col9\" >-0.752212</td>\n",
       "                        <td id=\"T_4e132fb0_e1d8_11e9_828f_d8cb8af59308row10_col10\" class=\"data row10 col10\" >1</td>\n",
       "            </tr>\n",
       "    </tbody></table>"
      ],
      "text/plain": [
       "<pandas.io.formats.style.Styler at 0x1c854f53f28>"
      ]
     },
     "execution_count": 15,
     "metadata": {},
     "output_type": "execute_result"
    }
   ],
   "source": [
    "def color_style_red(val):\n",
    "    \"\"\"\n",
    "    Takes a scalar and returns a string with\n",
    "    the css property.\n",
    "    \"\"\"\n",
    "    color = None\n",
    "    if val > 0.2 and val <= 0.5:\n",
    "        color = \"#FF9987\"\n",
    "    elif val > 0.5 and val <= 0.7:\n",
    "        color = \"#FF7456\"\n",
    "    elif val > 0.7 and val < 1:\n",
    "        color = \"#FF5334\"\n",
    "    elif val == 1:\n",
    "        color = \"black\"\n",
    "        \n",
    "    return \"color: %s\" % color\n",
    "\n",
    "correlation = flatsSale[flatsSale.columns[:23]].corr(method=\"pearson\")\n",
    "correlation.style.applymap(color_style_red)"
   ]
  },
  {
   "cell_type": "markdown",
   "metadata": {},
   "source": [
    "**You can tell a few things from the correlation data:**\n",
    "*   Price column:\n",
    "    *   I'm ignoring the relationship between Price & Pricem2, because it's trivial.\n",
    "    *   A weak positive correlation between Price and Rooms (0.28078), logic being that as the larger the flat,\n",
    "        the bigger the price\n",
    "    *   A weak-modest positive correlation between Price and Area (0.479501), same logic as the last one.\n",
    "    \n",
    "*   Rooms column:   \n",
    "    *   I'm yet again ignoring the relationship between Rooms & Area.\n",
    "*   Views column:\n",
    "    *   A bit more interesting relationship between Views & MemorizedCount (0.417306), as more people click on an add, they're more likier     to memorize that listing, but the surprising thing here is that correlation is not that strong.\n",
    "\n",
    "As we all know, correlation shows only linear relationship, so no complex ones can be seen.<br>\n",
    "Correlation strength source: https://lt.wikipedia.org/wiki/Koreliacija"
   ]
  },
  {
   "cell_type": "markdown",
   "metadata": {
    "colab_type": "text",
    "id": "EyKDTnmVx2ce"
   },
   "source": [
    "### Charts\n",
    "#### Helper functions:\n",
    "```display_values``` - Display numeric values in a chart.\n",
    "<br><br>\n",
    "<div>\n",
    "    <table align=\"left\">\n",
    "      <tr>\n",
    "        <th>Parameter name:</th>\n",
    "        <th>Description:</th>\n",
    "      </tr>\n",
    "      <tr>\n",
    "        <td>ch</td>\n",
    "        <td>Chart instance to apply to.</td> \n",
    "      </tr>\n",
    "    </table>\n",
    "</div>\n",
    "<br><br><br>\n",
    "\n",
    "```rotate_labels``` - Rotate X axis labels by Y degrees.It also sets the font-size for the labels.<br><br>\n",
    "<div>\n",
    "    <table align=\"left\">\n",
    "      <tr>\n",
    "        <th>Parameter name:</th>\n",
    "        <th>Description:</th>\n",
    "      </tr>\n",
    "      <tr>\n",
    "        <td>rot</td>\n",
    "        <td>Number of degrees to rotate.</td> \n",
    "      </tr>\n",
    "    </table>\n",
    "</div>\n",
    "<br><br><br>\n",
    "\n",
    "```init_chart``` - Method that initialzies a chart.\n",
    "<br><br>\n",
    "<div>\n",
    "    <table align=\"left\">\n",
    "      <tr>\n",
    "        <th>Parameter name:</th>\n",
    "        <th>Description:</th>\n",
    "      </tr>\n",
    "      <tr>\n",
    "        <td>chartType</td>\n",
    "        <td>Chart type to initialize.Currently there are a bar, linear, pie charts.</td> \n",
    "      </tr>\n",
    "      <tr>\n",
    "        <td>data</td>\n",
    "        <td>DataFrame data to apply on chart.</td> \n",
    "      </tr>        \n",
    "      <tr>\n",
    "        <td>title</td>\n",
    "        <td>Title to append to a chart.</td> \n",
    "      </tr>         \n",
    "      <tr>\n",
    "        <td>axisLabels</td>\n",
    "        <td>XY axis labels to write into a chart.</td> \n",
    "      </tr>\n",
    "      <tr>\n",
    "        <td>plotLabel</td>\n",
    "        <td>(Optional) label to add to a chart for legend.</td> \n",
    "      </tr>        \n",
    "      <tr>\n",
    "        <td>lineChartData</td>\n",
    "        <td>(Optional) data, that is only used for line chart initialization.</td> \n",
    "      </tr>           \n",
    "    </table>\n",
    "</div>\n",
    "<br><br><br>\n",
    "<br><br><br>\n",
    "<br><br><br>\n",
    "<br>\n",
    "\n",
    "```set_value_label_color_pie``` - Sets color for all value labels in a pie chart.\n",
    "<br><br>\n",
    "<div>\n",
    "    <table align=\"left\">\n",
    "      <tr>\n",
    "        <th>Parameter name:</th>\n",
    "        <th>Description:</th>\n",
    "      </tr>\n",
    "      <tr>\n",
    "        <td>at</td>\n",
    "        <td>Autotexts object of a chart.</td> \n",
    "      </tr>\n",
    "      <tr>\n",
    "        <td>color</td>\n",
    "        <td>Color to apply.</td> \n",
    "      </tr>               \n",
    "    </table>\n",
    "</div>"
   ]
  },
  {
   "cell_type": "code",
   "execution_count": 16,
   "metadata": {
    "colab": {},
    "colab_type": "code",
    "id": "zChXHWVW9JF2"
   },
   "outputs": [],
   "source": [
    "#sns.set(font_scale=1.1)\n",
    "\n",
    "def display_values(ch):\n",
    "    for p in ch.patches:\n",
    "             ch.annotate(\"%.1f\" % p.get_height(), (p.get_x() + p.get_width() / 2., p.get_height()),\n",
    "                 ha=\"center\", va=\"center\", fontsize=11, color=\"black\", xytext=(0, 8),\n",
    "                 textcoords=\"offset points\")\n",
    "            \n",
    "def rotate_labels(rot):\n",
    "    x = plt.gca().xaxis\n",
    "    for item in x.get_ticklabels():\n",
    "        item.set_rotation(rot)\n",
    "        item.set_fontsize(11)\n",
    "\n",
    "def init_chart(chartType, data, title, axisLabels, plotLabel=None, lineChartData=None, bar2ChartData=None):    \n",
    "    plot = None\n",
    "    titleSize = 25\n",
    "    if chartType == \"bar\":\n",
    "        plot = sns.barplot(x=data.index, y=data, palette=\"Blues_r\", label=plotLabel)\n",
    "    elif chartType == \"bar2\":\n",
    "        plot = sns.barplot(x=bar2ChartData[0], y=bar2ChartData[1], data=data, order=data[bar2ChartData[0]], palette=\"Blues_r\", label=plotLabel)        \n",
    "    elif chartType == \"line\":\n",
    "        plot = sns.lineplot(data=data, marker=lineChartData[0], markersize=8, color=lineChartData[1], label=plotLabel, sort=False)\n",
    "    elif chartType == \"pie\":\n",
    "        plot = plt.pie(data.values.tolist(), labels=data.index, autopct=\"%1.1f%%\", shadow=True, startangle=140, radius=1.5, textprops={\"fontsize\": 14})\n",
    "\n",
    "    if plot != None and chartType != \"pie\":\n",
    "        plot.set(xlabel = axisLabels[0], ylabel = axisLabels[1])  \n",
    "        \n",
    "        ylabels = [\"{:,.3f}\".format(x).replace(\",\", \" \") for x in plot.get_yticks()]\n",
    "        plot.set_yticklabels(ylabels, fontsize=12)    \n",
    "        \n",
    "        plot.xaxis.label.set_size(14)\n",
    "        plot.yaxis.label.set_size(14)\n",
    "        plot.xaxis.labelpad = 15\n",
    "        plot.yaxis.labelpad = 15\n",
    "         \n",
    "    if chartType == \"pie\":\n",
    "        titleSize = 50\n",
    "    # Plot title\n",
    "    plt.title(title, pad=titleSize, fontsize=14)\n",
    "    # Remove Top and Right frames.\n",
    "    sns.despine()\n",
    "    plt.margins(0.1)\n",
    "    plt.subplots_adjust(bottom=0.15)            \n",
    "        \n",
    "    return plot\n",
    "\n",
    "def set_value_label_color_pie(at, color):\n",
    "    for autotext in at:\n",
    "        autotext.set_color(color)    "
   ]
  },
  {
   "cell_type": "markdown",
   "metadata": {},
   "source": [
    "### Location"
   ]
  },
  {
   "cell_type": "markdown",
   "metadata": {
    "colab_type": "text",
    "id": "a1rGKlRWtDg8"
   },
   "source": [
    "#### TOP-10 cities/districts by most flats"
   ]
  },
  {
   "cell_type": "code",
   "execution_count": 17,
   "metadata": {
    "colab": {
     "base_uri": "https://localhost:8080/",
     "height": 339
    },
    "colab_type": "code",
    "id": "P5SwMWmltD2O",
    "outputId": "b7c1a5a0-74d3-454b-fa79-63e797e89e76"
   },
   "outputs": [
    {
     "data": {
      "image/png": "[encoded data removed]",
      "text/plain": [
       "<Figure size 648x432 with 1 Axes>"
      ]
     },
     "metadata": {
      "needs_background": "light"
     },
     "output_type": "display_data"
    }
   ],
   "source": [
    "plt.figure(figsize = (9, 6))\n",
    "top10Cities = flatsSale.groupby(\"City\").size().sort_values(ascending=False)[:10]\n",
    "\n",
    "plot = init_chart(\"bar\", top10Cities, \"TOP-10 cities/districts by most flats\", [\"City/district\", \"Flats\"])\n",
    "\n",
    "display_values(plot)  \n",
    "rotate_labels(45)"
   ]
  },
  {
   "cell_type": "markdown",
   "metadata": {},
   "source": [
    "#### Facts that we can take from the chart above:\n",
    "\n",
    "\n",
    "*   Vilnius has the biggest supply for flats.\n",
    "*   Klaipėda is 2nd, but number drops about **1.9** times.\n",
    "*   Kaunas is 3rd, number drops about **2.7** times.\n"
   ]
  },
  {
   "cell_type": "markdown",
   "metadata": {
    "colab_type": "text",
    "id": "HxHp9EjayAGA"
   },
   "source": [
    "#### TOP-10 most popular streets in cities by flats"
   ]
  },
  {
   "cell_type": "code",
   "execution_count": 18,
   "metadata": {
    "colab": {
     "base_uri": "https://localhost:8080/",
     "height": 401
    },
    "colab_type": "code",
    "id": "BSzYHFzEybSn",
    "outputId": "d671e3f6-b19f-427b-ea85-bf10d9a8c6e8"
   },
   "outputs": [
    {
     "data": {
      "image/png": "[encoded data removed]",
      "text/plain": [
       "<Figure size 648x432 with 1 Axes>"
      ]
     },
     "metadata": {
      "needs_background": "light"
     },
     "output_type": "display_data"
    }
   ],
   "source": [
    "plt.figure(figsize = (9, 6))\n",
    "top10Streets = flatsSale.groupby([\"City\", \"Street\"]).size().sort_values(ascending=False)[:10]\n",
    "plot = init_chart(\"bar\", top10Streets, \"TOP-10 streets in cities by flats\", \n",
    "                  [\"City/district and street\", \"Flats\"])\n",
    "\n",
    "display_values(plot)  \n",
    "rotate_labels(70)"
   ]
  },
  {
   "cell_type": "markdown",
   "metadata": {
    "colab_type": "text",
    "id": "09dZMJ1sam_N"
   },
   "source": [
    "#### Facts that we can take from the chart above:\n",
    "*   Klaipėda rules with the most flats in their streets.<br>That is pretty logical, since Klaipėda is about 110 km2, while, e.g Vilnius is 401 km2, and so it's 3.6 smaller and thus the flats that people sell are more packed/located closer to each other in Klaipėda.\n",
    "*   Finally, on 4th place there is Vilnius, with Leičių g. in a infamous Perkūnkiemis<br> district, which is known for the construction boom it's currently experiencing.\n",
    "\n",
    "Out of TOP-10:\n",
    "*   4 are located in Klaipėda.\n",
    "*   4 are located in Vilnius.\n",
    "*   1 is located in Kaunas.\n",
    "*   1 is located in Palanga. "
   ]
  },
  {
   "cell_type": "markdown",
   "metadata": {
    "colab_type": "text",
    "id": "D7g_wKRvRoYc"
   },
   "source": [
    "#### TOP-10 most popular disticts in cities by flats"
   ]
  },
  {
   "cell_type": "code",
   "execution_count": 19,
   "metadata": {
    "colab": {
     "base_uri": "https://localhost:8080/",
     "height": 375
    },
    "colab_type": "code",
    "id": "BTf1MKRPRu65",
    "outputId": "376aec41-5312-4901-d481-32a18713f2eb"
   },
   "outputs": [
    {
     "data": {
      "image/png": "[encoded data removed]",
      "text/plain": [
       "<Figure size 648x432 with 1 Axes>"
      ]
     },
     "metadata": {
      "needs_background": "light"
     },
     "output_type": "display_data"
    }
   ],
   "source": [
    "plt.figure(figsize = (9, 6))\n",
    "top10Streets = flatsSale.groupby([\"City\", \"District\"]).size().sort_values(ascending=False)[:10]\n",
    "plot = init_chart(\"bar\", top10Streets, \"TOP-10 most popular districts by flats\", \n",
    "                  [\"District\", \"Flats\"])\n",
    "\n",
    "display_values(plot)  \n",
    "rotate_labels(70)"
   ]
  },
  {
   "cell_type": "markdown",
   "metadata": {
    "colab_type": "text",
    "id": "osyTbt_VfuRK"
   },
   "source": [
    "#### Facts that we can take from the chart above:\n",
    "*   Most flats, that are listed, are located in Vilnius Senamiestis.<br>\n",
    "*   Most districts in Vilnius, except for Pašilaičiai and Pilaitė, are located are located around city centre - Senamiestis.\n",
    "*   Two districts in Vilnius that too is in this list are Pašilaičiai** and Pilaitė, who are pretty new districts, so the space is available, hence the flats for sale.\n",
    "*   Most districts, that have most flats, are located in Vilnius.\n",
    "*   2 districts are located in Kaunas.\n",
    "*   1 is located in Klaipėda."
   ]
  },
  {
   "cell_type": "markdown",
   "metadata": {},
   "source": [
    "### Price"
   ]
  },
  {
   "cell_type": "markdown",
   "metadata": {},
   "source": [
    "#### I think that Vilnius Senamiestis is a more expensive(on average) place to buy a flat than a Klaipėda Senamiestis and Kaunas Senamiestis."
   ]
  },
  {
   "cell_type": "code",
   "execution_count": 20,
   "metadata": {},
   "outputs": [
    {
     "data": {
      "image/png": "[encoded data removed]",
      "text/plain": [
       "<Figure size 648x432 with 1 Axes>"
      ]
     },
     "metadata": {
      "needs_background": "light"
     },
     "output_type": "display_data"
    }
   ],
   "source": [
    "cities = flatsSale.groupby([\"City\", \"District\"]).mean()\n",
    "\n",
    "vilniusOldTownPrice = cities.loc[\"Vilnius\"][\"Price\"][\"District\" == \"Senamiestis\"]\n",
    "kaunasOldTownPrice = cities.loc[\"Kaunas\"][\"Price\"][\"District\" == \"Senamiestis\"]\n",
    "klaipedaOldTownPrice = cities.loc[\"Klaipėda\"][\"Price\"][\"District\" == \"Senamiestis\"]\n",
    "\n",
    "oldtownData = pd.Series({\"Vilnius Senamiestis\": vilniusOldTownPrice,\n",
    "                         \"Kaunas Senamiestis\": kaunasOldTownPrice,\n",
    "                         \"Klaipėda Senamiestis\": klaipedaOldTownPrice})\n",
    "\n",
    "plt.figure(figsize = (9, 6))\n",
    "plot = init_chart(\"bar\", oldtownData, \"Old town districts in TOP-3 biggest cities and their average flat prices\", \n",
    "                  [\"Old town district\", \"Average price in EUR\"])\n",
    "\n",
    "display_values(plot)"
   ]
  },
  {
   "cell_type": "markdown",
   "metadata": {},
   "source": [
    "#### Conclusions:\n",
    "*    I was right, not only Vilnius is the most expensive city to buy a flat in Senamiestis, but the difference is so huge,\n",
    "        that even if you combine the prices of Kaunas Senamiestis and Klaipėda Senamiestis, you wouldn't get the number of Vilnius Senamiestis."
   ]
  },
  {
   "cell_type": "markdown",
   "metadata": {},
   "source": [
    "### TOP-10 largest cities by population and their average flat prices and flat numbers"
   ]
  },
  {
   "cell_type": "code",
   "execution_count": 21,
   "metadata": {
    "scrolled": true
   },
   "outputs": [
    {
     "data": {
      "image/png": "[encoded data removed]",
      "text/plain": [
       "<Figure size 648x432 with 1 Axes>"
      ]
     },
     "metadata": {
      "needs_background": "light"
     },
     "output_type": "display_data"
    }
   ],
   "source": [
    "vilniusCityCount = flatsSale.groupby(\"City\")\n",
    "columns = [\"Vilnius\", \"Kaunas\", \"Klaipėda\", \"Šiauliai\", \"Panevėžys\", \n",
    "           \"Alytus\", \"Marijampolės m.\", \"Mažeikių m.\", \"Jonavos m.\", \"Utenos m.\"]\n",
    "\n",
    "flatMapCounts = vilniusCityCount.size()[columns]\n",
    "flatMapPrices = vilniusCityCount.mean()[\"Price\"][columns]\n",
    "flatMapPop = pd.Series({\"Vilnius\": 536692,\n",
    "                            \"Kaunas\": 312120,\n",
    "                            \"Klaipėda\": 164310,\n",
    "                            \"Šiauliai\": 107086,\n",
    "                            \"Panevėžys\": 98598,\n",
    "                            \"Alytus\": 54437,\n",
    "                            \"Marijampolės m.\": 36628,\n",
    "                            \"Mažeikių m.\": 33281,\n",
    "                            \"Jonavos m.\": 29031,\n",
    "                            \"Utenos m.\": 27041})\n",
    "\n",
    "plt.figure(figsize = (9, 6))\n",
    "plot1 = init_chart(\"line\", flatMapPop / 10, \"\", [\"\", \"\"], \"Population\", [\"o\", \"Green\"])\n",
    "plot2 = init_chart(\"line\", flatMapCounts * 10, \"\", [\"\", \"\"], \"Flat counts\", [\"o\", \"Red\"])\n",
    "plot3 = init_chart(\"line\", flatMapPrices / 10, \"TOP-10 largest cities by population and their average flat prices/flat numbers\", [\"City/district\", \"Flats\"], \"Avg price\", [\"o\", \"Blue\"])\n",
    "rotate_labels(70)"
   ]
  },
  {
   "cell_type": "code",
   "execution_count": 22,
   "metadata": {},
   "outputs": [
    {
     "data": {
      "text/html": [
       "<div>\n",
       "<style scoped>\n",
       "    .dataframe tbody tr th:only-of-type {\n",
       "        vertical-align: middle;\n",
       "    }\n",
       "\n",
       "    .dataframe tbody tr th {\n",
       "        vertical-align: top;\n",
       "    }\n",
       "\n",
       "    .dataframe thead th {\n",
       "        text-align: right;\n",
       "    }\n",
       "</style>\n",
       "<table border=\"1\" class=\"dataframe\">\n",
       "  <thead>\n",
       "    <tr style=\"text-align: right;\">\n",
       "      <th></th>\n",
       "      <th>Flat Count</th>\n",
       "      <th>Price</th>\n",
       "      <th>Population</th>\n",
       "    </tr>\n",
       "  </thead>\n",
       "  <tbody>\n",
       "    <tr>\n",
       "      <th>Flat Count</th>\n",
       "      <td>1.000000</td>\n",
       "      <td>0.987163</td>\n",
       "      <td>0.943253</td>\n",
       "    </tr>\n",
       "    <tr>\n",
       "      <th>Price</th>\n",
       "      <td>0.987163</td>\n",
       "      <td>1.000000</td>\n",
       "      <td>0.972818</td>\n",
       "    </tr>\n",
       "    <tr>\n",
       "      <th>Population</th>\n",
       "      <td>0.943253</td>\n",
       "      <td>0.972818</td>\n",
       "      <td>1.000000</td>\n",
       "    </tr>\n",
       "  </tbody>\n",
       "</table>\n",
       "</div>"
      ],
      "text/plain": [
       "            Flat Count     Price  Population\n",
       "Flat Count    1.000000  0.987163    0.943253\n",
       "Price         0.987163  1.000000    0.972818\n",
       "Population    0.943253  0.972818    1.000000"
      ]
     },
     "execution_count": 22,
     "metadata": {},
     "output_type": "execute_result"
    }
   ],
   "source": [
    "flatMapComb = pd.concat([flatMapCounts, flatMapPrices, flatMapPop], axis = 1)\n",
    "flatMapComb = flatMapComb.rename({0:\"Flat Count\", 1: \"Population\"}, axis = 1)\n",
    "flatMapComb.corr()"
   ]
  },
  {
   "cell_type": "markdown",
   "metadata": {},
   "source": [
    "#### Facts that we can take from the chart & correlation above:\n",
    "*    As population & flat number decreases, so does the average price.<br>\n",
    "     The exception to this is the Klaipėda city."
   ]
  },
  {
   "cell_type": "markdown",
   "metadata": {},
   "source": [
    "#### Flat prices histogram\n",
    "Flat prices (outliers removed) - flat prices without the outliers(less than 200 000 EUR).<br>\n",
    "Flat prices (outliers not removed) - flat prices with all data(and outliers)."
   ]
  },
  {
   "cell_type": "code",
   "execution_count": 23,
   "metadata": {},
   "outputs": [
    {
     "data": {
      "image/png": "[encoded data removed]",
      "text/plain": [
       "<Figure size 1296x432 with 2 Axes>"
      ]
     },
     "metadata": {
      "needs_background": "light"
     },
     "output_type": "display_data"
    }
   ],
   "source": [
    "f, axes = plt.subplots(1, 2, figsize=(18, 6))\n",
    "sns.despine()\n",
    "\n",
    "plot1 = sns.distplot(flatsSale[\"Price\"], kde=False, bins=10, ax=axes[1])\n",
    "plot2 = sns.distplot(flatsSale[flatsSale[\"Price\"] <= 200000][\"Price\"], kde=False, bins=10, ax=axes[0])\n",
    "\n",
    "plot1.set_title(\"Flat prices (outliers not removed)\", pad=25, fontsize=14)\n",
    "plot2.set_title(\"Flat prices (outliers removed)\", pad=25, fontsize=14)\n",
    "\n",
    "plot1.set(xlabel = \"Price\", ylabel = \"Flats\") \n",
    "plot2.set(xlabel = \"Price\", ylabel = \"Flats\") \n",
    "\n",
    "ylabels1 = [\"{:,}\".format(x).replace(\",\", \" \") for x in plot1.get_yticks()]\n",
    "xlabels1 = [\"{:,}\".format(x).replace(\",\", \" \") for x in plot1.get_xticks()]\n",
    "ylabels2 = [\"{:,}\".format(x).replace(\",\", \" \") for x in plot2.get_yticks()]\n",
    "xlabels2 = [\"{:,}\".format(x).replace(\",\", \" \") for x in plot2.get_xticks()]\n",
    "\n",
    "plot1.set_yticklabels(ylabels1, fontsize=12)\n",
    "plot1.set_xticklabels(xlabels1, fontsize=12)\n",
    "plot2.set_yticklabels(ylabels2, fontsize=12)\n",
    "plot2.set_xticklabels(xlabels2, fontsize=12)\n",
    "\n",
    "plot1.xaxis.label.set_size(14)\n",
    "plot1.xaxis.labelpad = 15\n",
    "plot2.xaxis.label.set_size(14)\n",
    "plot2.xaxis.labelpad = 15\n",
    "\n",
    "plot1.yaxis.label.set_size(14)\n",
    "plot1.yaxis.labelpad = 15\n",
    "plot2.yaxis.label.set_size(14)\n",
    "plot2.yaxis.labelpad = 15\n",
    "\n",
    "for tick in plot1.axes.get_xticklabels():\n",
    "    tick.set_rotation(45)\n",
    "for tick in plot2.axes.get_xticklabels():\n",
    "    tick.set_rotation(45)\n",
    "\n",
    "display_values(plot1)\n",
    "display_values(plot2)"
   ]
  },
  {
   "cell_type": "markdown",
   "metadata": {},
   "source": [
    "#### Facts that we can take from the chart above:\n",
    "*    Most of the prices are between 0 - 200 K.\n",
    "*    There are about less than 400 outliers in the right chart."
   ]
  },
  {
   "cell_type": "markdown",
   "metadata": {},
   "source": [
    "### Miscellaneous columns"
   ]
  },
  {
   "cell_type": "markdown",
   "metadata": {},
   "source": [
    "#### Flats by building type"
   ]
  },
  {
   "cell_type": "code",
   "execution_count": 24,
   "metadata": {},
   "outputs": [
    {
     "data": {
      "image/png": "[encoded data removed]",
      "text/plain": [
       "<Figure size 648x432 with 1 Axes>"
      ]
     },
     "metadata": {
      "needs_background": "light"
     },
     "output_type": "display_data"
    }
   ],
   "source": [
    "buildingTypes = flatsSale.groupby('BuildingType').size().sort_values(ascending=False)\n",
    "\n",
    "plt.figure(figsize = (9, 6))\n",
    "plot = init_chart(\"bar\", buildingTypes, \"\", [\"Building Type\", \"Flats\"])\n",
    "\n",
    "display_values(plot)"
   ]
  },
  {
   "cell_type": "markdown",
   "metadata": {},
   "source": [
    "#### Facts that we can take from the chart above:\n",
    "*    As you can see the vast majority is taken by Mūrinis, followed by Blokinis.\n",
    "*    Medinis, Rąstinis and Karkasinis building types are pretty rare."
   ]
  },
  {
   "cell_type": "markdown",
   "metadata": {},
   "source": [
    "### Time"
   ]
  },
  {
   "cell_type": "markdown",
   "metadata": {},
   "source": [
    "#### TOP-10 most popular construction years for flats"
   ]
  },
  {
   "cell_type": "code",
   "execution_count": 25,
   "metadata": {},
   "outputs": [
    {
     "data": {
      "image/png": "[encoded data removed]",
      "text/plain": [
       "<Figure size 648x432 with 1 Axes>"
      ]
     },
     "metadata": {
      "needs_background": "light"
     },
     "output_type": "display_data"
    }
   ],
   "source": [
    "constructionYears = flatsSale.groupby(\"Year\").size().reset_index()\n",
    "constructionYears.columns = [\"Year\", \"Count\"]\n",
    "constructionYears = constructionYears.sort_values('Count', ascending=False).iloc[:10]\n",
    "\n",
    "plt.figure(figsize = (9, 6))\n",
    "plot = init_chart(\"bar2\", constructionYears, \"TOP-10 most popular construction years for flats\", \n",
    "                  [\"Year\",\"Flats\"], None, None, [\"Year\", \"Count\"]) \n",
    "\n",
    "display_values(plot)\n",
    "rotate_labels(45)"
   ]
  },
  {
   "cell_type": "markdown",
   "metadata": {},
   "source": [
    "#### Facts that we can take from the chart above:\n",
    "*    Out of TOP-10, half of the flats have been built in the 21st century.\n",
    "*    Rest are spread out, but mostly its the late 70s, 80s and 90s<br> with an exception of 1940 - 378 flats were build during the WW2, and that is impressive!"
   ]
  },
  {
   "cell_type": "markdown",
   "metadata": {},
   "source": [
    "#### Hypothesis: people upload more flat listings on the weekends"
   ]
  },
  {
   "cell_type": "code",
   "execution_count": 26,
   "metadata": {},
   "outputs": [
    {
     "data": {
      "image/png": "[encoded data removed]",
      "text/plain": [
       "<Figure size 648x432 with 1 Axes>"
      ]
     },
     "metadata": {
      "needs_background": "light"
     },
     "output_type": "display_data"
    }
   ],
   "source": [
    "dayofweek = pd.DatetimeIndex(flatsSale[\"UploadDate\"]).dayofweek.tolist()\n",
    "\n",
    "plt.figure(figsize = (9, 6))\n",
    "plot1 = init_chart(\"line\", pd.Series({\n",
    "                    \"Monday\": dayofweek.count(0),\n",
    "                    \"Tuesday\": dayofweek.count(1),\n",
    "                    \"Wednesday\": dayofweek.count(2),\n",
    "                    \"Thursday\": dayofweek.count(3),\n",
    "                    \"Friday\": dayofweek.count(4),\n",
    "                    \"Saturday\": dayofweek.count(5),\n",
    "                    \"Sunday\": dayofweek.count(6)\n",
    "                  }), \"\", [\"Day of week\", \"Number of flats\"], \"\", [\"o\", \"Blue\"])\n",
    "rotate_labels(0)"
   ]
  },
  {
   "cell_type": "markdown",
   "metadata": {},
   "source": [
    "#### Facts that we can take from the chart above:\n",
    "*   I couldn't be more wrong, it looks that the most active day of a week is the start of a week - Monday and the weekend is the least active!"
   ]
  },
  {
   "cell_type": "markdown",
   "metadata": {},
   "source": [
    "### Views"
   ]
  },
  {
   "cell_type": "markdown",
   "metadata": {},
   "source": [
    "### Views boxplot\n",
    "I removed outliers for this chart only.<br>\n",
    "Set maximum views value for this chart to be 2000."
   ]
  },
  {
   "cell_type": "code",
   "execution_count": 27,
   "metadata": {},
   "outputs": [
    {
     "data": {
      "image/png": "[encoded data removed]",
      "text/plain": [
       "<Figure size 1296x432 with 2 Axes>"
      ]
     },
     "metadata": {
      "needs_background": "light"
     },
     "output_type": "display_data"
    }
   ],
   "source": [
    "f, axes = plt.subplots(1, 2, figsize=(18, 6))\n",
    "sns.despine()\n",
    "\n",
    "plot1 = sns.boxplot(x=flatsSale[flatsSale[\"Views\"] < 1000][\"Views\"], ax=axes[0])\n",
    "plot2 = sns.boxplot(x=flatsSale[\"Views\"], ax=axes[1])\n",
    "\n",
    "plot1.set_xlabel(\"Views\", fontsize=10)\n",
    "plot2.set_xlabel(\"Views\", fontsize=10)\n",
    "\n",
    "plot1.set_title(\"Views boxplot (outliers removed)\", pad=25, fontsize=14)\n",
    "plot2.set_title(\"Views boxplot (outliers not removed)\", pad=25, fontsize=14)\n",
    "\n",
    "plot1.xaxis.label.set_size(14)\n",
    "plot1.xaxis.labelpad = 15\n",
    "plot2.xaxis.label.set_size(14)\n",
    "plot2.xaxis.labelpad = 15\n",
    "\n",
    "xlabels1 = [\"{:,}\".format(x).replace(\",\", \" \") for x in plot1.get_xticks()]\n",
    "xlabels2 = [\"{:,}\".format(x).replace(\",\", \" \") for x in plot2.get_xticks()]\n",
    "plot1.set_xticklabels(xlabels1, fontsize=12)\n",
    "plot2.set_xticklabels(xlabels2, fontsize=12)\n",
    "\n",
    "for tick in plot1.axes.get_xticklabels():\n",
    "    tick.set_rotation(45)\n",
    "for tick in plot2.axes.get_xticklabels():\n",
    "    tick.set_rotation(45)    "
   ]
  },
  {
   "cell_type": "markdown",
   "metadata": {},
   "source": [
    "#### Facts that we can take from the chart above:\n",
    "*   Most of views are concentrated between 250 and 700.\n",
    "*   There are quite a few outliers as you can see on the right chart."
   ]
  },
  {
   "cell_type": "markdown",
   "metadata": {},
   "source": [
    "### TOP-5 cities by cumulative views"
   ]
  },
  {
   "cell_type": "code",
   "execution_count": 28,
   "metadata": {},
   "outputs": [
    {
     "data": {
      "image/png": "[encoded data removed]",
      "text/plain": [
       "<Figure size 648x432 with 1 Axes>"
      ]
     },
     "metadata": {},
     "output_type": "display_data"
    }
   ],
   "source": [
    "data = flatsSale.groupby(\"City\")[\"Views\"].sum().sort_values(ascending=False)[:5]\n",
    "plt.figure(figsize = (9, 6))\n",
    "_, _, autotexts  = init_chart(\"pie\", data, \"\", [\"District\", \"Flats\"])\n",
    "plt.title(\"TOP-5 cities by cumulative views\", pad=70, fontsize=14)\n",
    "\n",
    "set_value_label_color_pie(autotexts, \"white\")"
   ]
  },
  {
   "cell_type": "markdown",
   "metadata": {},
   "source": [
    "#### Facts that we can take from the chart above:\n",
    "*    Most of people are interested in flats in Vilnius city, followed by Kaunas & Klaipėda.\n",
    "*    Quite a lot of peopel are looking for flats in Palanga.<br>Who wouldn't enjoy having a flat near the sea?"
   ]
  },
  {
   "cell_type": "markdown",
   "metadata": {
    "colab_type": "text",
    "id": "rz8j-mvgBExo"
   },
   "source": [
    "### Maps\n",
    "### Flats map(whose who had coordinates)"
   ]
  },
  {
   "cell_type": "code",
   "execution_count": 29,
   "metadata": {
    "colab": {},
    "colab_type": "code",
    "id": "Anx0ZiuZBTZ8"
   },
   "outputs": [
    {
     "data": {
      "text/html": [
       "\n",
       "        <iframe\n",
       "            width=\"800\"\n",
       "            height=\"600\"\n",
       "            src=\"map.html\"\n",
       "            frameborder=\"0\"\n",
       "            allowfullscreen\n",
       "        ></iframe>\n",
       "        "
      ],
      "text/plain": [
       "<IPython.lib.display.IFrame at 0x1c8554ba710>"
      ]
     },
     "execution_count": 29,
     "metadata": {},
     "output_type": "execute_result"
    }
   ],
   "source": [
    "\"\"\"\n",
    "m = folium.Map(\n",
    "    location=[54.897069, 23.903187],\n",
    "    zoom_start=7.4\n",
    ")\n",
    "\n",
    "mapData = flatsSale[[\"Latitude\", \"Longitude\", \"Link\"]].dropna()\n",
    "popups = [ \"<a href='\" + link + \"' target='_blank'>url</a>\" for link in mapData[\"Link\"].values.tolist()]\n",
    "\n",
    "marker_cluster = MarkerCluster(\n",
    "    locations=mapData[[\"Latitude\", \"Longitude\"]].values.tolist(),\n",
    "    popups=popups,\n",
    "    overlay=True,\n",
    "    control=True\n",
    ")\n",
    "\n",
    "marker_cluster.add_to(m)\n",
    "folium.LayerControl().add_to(m)\n",
    "m.save(\"map.html\")\n",
    "\"\"\"\n",
    "IFrame(src=\"map.html\", width=800, height=600)"
   ]
  },
  {
   "cell_type": "markdown",
   "metadata": {},
   "source": [
    "#### Facts that we can take from the map above:\n",
    "*    You can see that most flats(by zooming in) are concentrated in 7(I removed Curonian Split) places:(in descending order)<br>\n",
    "<div>\n",
    "    <table align=\"left\">\n",
    "      <tr>\n",
    "        <th>City/district name</th>\n",
    "      </tr>\n",
    "      <tr>\n",
    "        <td>Vilnius city and it's region</td>\n",
    "      </tr>\n",
    "      <tr>\n",
    "        <td>Klaipėda city and it's region</td>\n",
    "      </tr>\n",
    "      <tr>\n",
    "        <td>Kaunas city and it's region</td>\n",
    "      </tr>\n",
    "      <tr>\n",
    "        <td>Palanga city and it's region</td>\n",
    "      </tr>     \n",
    "      <tr>\n",
    "        <td>Šiauliai city and it's region</td>\n",
    "      </tr>\n",
    "      <tr>\n",
    "        <td>Panevėžys city and it's region</td>\n",
    "      </tr>\n",
    "      <tr>\n",
    "        <td>Druskininkai city and it's region</td>\n",
    "      </tr>        \n",
    "        \n",
    "    </table>\n",
    "</div>"
   ]
  },
  {
   "cell_type": "markdown",
   "metadata": {},
   "source": [
    "### 2019-08-18 - 2019-08-24 live map of flat listings"
   ]
  },
  {
   "cell_type": "code",
   "execution_count": 30,
   "metadata": {},
   "outputs": [
    {
     "data": {
      "text/html": [
       "\n",
       "        <iframe\n",
       "            width=\"800\"\n",
       "            height=\"600\"\n",
       "            src=\"map2.html\"\n",
       "            frameborder=\"0\"\n",
       "            allowfullscreen\n",
       "        ></iframe>\n",
       "        "
      ],
      "text/plain": [
       "<IPython.lib.display.IFrame at 0x1c8554a9da0>"
      ]
     },
     "execution_count": 30,
     "metadata": {},
     "output_type": "execute_result"
    }
   ],
   "source": [
    "\"\"\"\n",
    "mapData =  flatsSale[[\"Latitude\", \"Longitude\", \"UploadDate\"]].dropna().sort_values(by='UploadDate', ascending=True)\n",
    "mapData  = mapData[mapData['UploadDate'] >= '2019-08-18']\n",
    "\n",
    "dataLen = len(mapData)\n",
    "initial_data = mapData[[\"Latitude\", \"Longitude\"]].values[:dataLen]\n",
    "data = [(initial_data[0:i + 1]).tolist() for i in range(dataLen)]\n",
    "time_index = mapData['UploadDate'].astype(str).tolist()[:dataLen]\n",
    "\n",
    "m = folium.Map([54.897069, 23.903187], zoom_start=7.4)\n",
    "\n",
    "hm = plugins.HeatMapWithTime(\n",
    "    data,\n",
    "    index=time_index,\n",
    "    max_opacity=0.3\n",
    ")\n",
    "\n",
    "hm.add_to(m)\n",
    "folium.TileLayer('cartodbpositron').add_to(m)\n",
    "m.save(\"map2.html\")\n",
    "\"\"\"\n",
    "IFrame(src=\"map2.html\", width=800, height=600)"
   ]
  },
  {
   "cell_type": "markdown",
   "metadata": {},
   "source": [
    "*   You can see how quickly 3 major cities: Vilnius, Kaunas, Klaipėda gets the red spots.\n"
   ]
  },
  {
   "cell_type": "markdown",
   "metadata": {},
   "source": [
    "### 378 flats were build in 1940.I want to see all flats build during WW2!"
   ]
  },
  {
   "cell_type": "code",
   "execution_count": 31,
   "metadata": {},
   "outputs": [
    {
     "data": {
      "text/html": [
       "\n",
       "        <iframe\n",
       "            width=\"800\"\n",
       "            height=\"600\"\n",
       "            src=\"map3.html\"\n",
       "            frameborder=\"0\"\n",
       "            allowfullscreen\n",
       "        ></iframe>\n",
       "        "
      ],
      "text/plain": [
       "<IPython.lib.display.IFrame at 0x1c85552d278>"
      ]
     },
     "execution_count": 31,
     "metadata": {},
     "output_type": "execute_result"
    }
   ],
   "source": [
    "m = folium.Map(\n",
    "    location=[54.897069, 23.903187],\n",
    "    zoom_start=7.4\n",
    ")\n",
    "\n",
    "mapData = flatsSale[[\"Latitude\", \"Longitude\", \"Link\", \"Year\"]].dropna()\n",
    "mapData = mapData[(mapData[\"Year\"] >= 1939) & (mapData[\"Year\"] <= 1945)]\n",
    "\n",
    "popups = [ \"<a href='\" + link + \"' target='_blank'>url</a>\" for link in mapData[\"Link\"].values.tolist()]\n",
    "\n",
    "marker_cluster = MarkerCluster(\n",
    "    locations=mapData[[\"Latitude\", \"Longitude\"]].values.tolist(),\n",
    "    popups=popups,\n",
    "    overlay=True,\n",
    "    control=True\n",
    ")\n",
    "\n",
    "marker_cluster.add_to(m)\n",
    "folium.LayerControl().add_to(m)\n",
    "m.save(\"map3.html\")\n",
    "IFrame(src=\"map3.html\", width=800, height=600)"
   ]
  },
  {
   "cell_type": "markdown",
   "metadata": {},
   "source": [
    "#### Facts that we can take from the map above:\n",
    "*   Most of flats, during WW2, were build in Vilnius.\n",
    "*   In Vilnius, most of them in Vilnius Senamiestis."
   ]
  },
  {
   "cell_type": "markdown",
   "metadata": {},
   "source": [
    "### Machine learning model\n",
    "#### Building type classification based on rooms, area, floor, total floors\n",
    "I am using a KNN - <a href='https://en.wikipedia.org/wiki/K-nearest_neighbors_algorithm' target='_blank'>k-nearest neighbors</a> algorithm to predict **Building Type** based on these factors(values):\n",
    "*   Rooms\n",
    "*   Area\n",
    "*   Floor\n",
    "*   Total floors\n",
    "*   Year\n",
    "\n",
    "I use `n_neighbors` value of 9 because of the error chart below.\n",
    "\n",
    "Example & tutorial can be found here: <a href='https://stackabuse.com/k-nearest-neighbors-algorithm-in-python-and-scikit-learn/' target='_blank'>URL</a>\n",
    "\n",
    "#### Data for model:"
   ]
  },
  {
   "cell_type": "code",
   "execution_count": 32,
   "metadata": {},
   "outputs": [
    {
     "data": {
      "text/html": [
       "<div>\n",
       "<style scoped>\n",
       "    .dataframe tbody tr th:only-of-type {\n",
       "        vertical-align: middle;\n",
       "    }\n",
       "\n",
       "    .dataframe tbody tr th {\n",
       "        vertical-align: top;\n",
       "    }\n",
       "\n",
       "    .dataframe thead th {\n",
       "        text-align: right;\n",
       "    }\n",
       "</style>\n",
       "<table border=\"1\" class=\"dataframe\">\n",
       "  <thead>\n",
       "    <tr style=\"text-align: right;\">\n",
       "      <th></th>\n",
       "      <th>Rooms</th>\n",
       "      <th>Area</th>\n",
       "      <th>Floor</th>\n",
       "      <th>TotalFloors</th>\n",
       "      <th>Year</th>\n",
       "      <th>BuildingType</th>\n",
       "    </tr>\n",
       "  </thead>\n",
       "  <tbody>\n",
       "    <tr>\n",
       "      <th>0</th>\n",
       "      <td>2</td>\n",
       "      <td>38.73</td>\n",
       "      <td>3</td>\n",
       "      <td>6</td>\n",
       "      <td>2019.0</td>\n",
       "      <td>Mūrinis</td>\n",
       "    </tr>\n",
       "    <tr>\n",
       "      <th>1</th>\n",
       "      <td>3</td>\n",
       "      <td>83.16</td>\n",
       "      <td>3</td>\n",
       "      <td>3</td>\n",
       "      <td>2019.0</td>\n",
       "      <td>Mūrinis</td>\n",
       "    </tr>\n",
       "    <tr>\n",
       "      <th>2</th>\n",
       "      <td>2</td>\n",
       "      <td>49.20</td>\n",
       "      <td>1</td>\n",
       "      <td>4</td>\n",
       "      <td>2019.0</td>\n",
       "      <td>Mūrinis</td>\n",
       "    </tr>\n",
       "    <tr>\n",
       "      <th>3</th>\n",
       "      <td>2</td>\n",
       "      <td>49.20</td>\n",
       "      <td>2</td>\n",
       "      <td>4</td>\n",
       "      <td>2019.0</td>\n",
       "      <td>Mūrinis</td>\n",
       "    </tr>\n",
       "    <tr>\n",
       "      <th>4</th>\n",
       "      <td>3</td>\n",
       "      <td>65.67</td>\n",
       "      <td>1</td>\n",
       "      <td>3</td>\n",
       "      <td>2019.0</td>\n",
       "      <td>Mūrinis</td>\n",
       "    </tr>\n",
       "  </tbody>\n",
       "</table>\n",
       "</div>"
      ],
      "text/plain": [
       "   Rooms   Area  Floor  TotalFloors    Year BuildingType\n",
       "0      2  38.73      3            6  2019.0      Mūrinis\n",
       "1      3  83.16      3            3  2019.0      Mūrinis\n",
       "2      2  49.20      1            4  2019.0      Mūrinis\n",
       "3      2  49.20      2            4  2019.0      Mūrinis\n",
       "4      3  65.67      1            3  2019.0      Mūrinis"
      ]
     },
     "execution_count": 32,
     "metadata": {},
     "output_type": "execute_result"
    }
   ],
   "source": [
    "# Dataframe that holds all the columns for the model.\n",
    "Z = flatsSale.iloc[:,6:12].dropna()\n",
    "# X - numeric values without the categorical column.\n",
    "X = Z.iloc[:,:5].values\n",
    "# Y - categorical column\n",
    "y = Z.iloc[:,5].values\n",
    "\n",
    "Z.head()"
   ]
  },
  {
   "cell_type": "code",
   "execution_count": 33,
   "metadata": {},
   "outputs": [],
   "source": [
    "# Initialize test & train data. \n",
    "# Set train data to 80% of the total dataframe,\n",
    "# 20% for validation part.\n",
    "X_train, X_test, y_train, y_test = train_test_split(X, y, test_size=0.20)\n",
    "\n",
    "# Scale values for the model.\n",
    "scaler = StandardScaler()\n",
    "scaler.fit(X_train)\n",
    "\n",
    "# Scale train data.\n",
    "X_train = scaler.transform(X_train)\n",
    "# Scale test data. \n",
    "X_test = scaler.transform(X_test)\n",
    "\n",
    "# Initialize the KNN.\n",
    "classifier = KNeighborsClassifier(n_neighbors=7)\n",
    "# Train the KNN.\n",
    "classifier.fit(X_train, y_train)\n",
    "\n",
    "# Get the prediction results.\n",
    "y_pred = classifier.predict(X_test)"
   ]
  },
  {
   "cell_type": "markdown",
   "metadata": {},
   "source": [
    "#### Model results:"
   ]
  },
  {
   "cell_type": "code",
   "execution_count": 34,
   "metadata": {},
   "outputs": [
    {
     "name": "stdout",
     "output_type": "stream",
     "text": [
      "              precision    recall  f1-score   support\n",
      "\n",
      "    Blokinis       0.63      0.65      0.64       399\n",
      "  Karkasinis       0.00      0.00      0.00         4\n",
      "        Kita       0.47      0.27      0.34        26\n",
      "     Medinis       0.45      0.32      0.37        41\n",
      " Monolitinis       0.60      0.29      0.39        85\n",
      "     Mūrinis       0.82      0.87      0.84      1359\n",
      "    Rąstinis       0.33      0.06      0.10        18\n",
      "\n",
      "    accuracy                           0.77      1932\n",
      "   macro avg       0.47      0.35      0.38      1932\n",
      "weighted avg       0.75      0.77      0.76      1932\n",
      "\n"
     ]
    }
   ],
   "source": [
    "print(classification_report(y_test, y_pred))"
   ]
  },
  {
   "cell_type": "markdown",
   "metadata": {},
   "source": [
    "It's hard to say definetly, since it's my 1/2 ML model and I don't have the knowledge to interpret it much, catch mistakes and etc, but here you go:\n",
    "#### Facts that we can take from the chart above:\n",
    "*    It predicts Mūrinis type pretty well, since this type occupies 71% of the data.\n",
    "*    2nd place goes to Blokinis.\n",
    "*    Both Mūrinis and Blokinis types are pretty steady, their values don't vary that greatly(after each re-run) compared to other ones.\n",
    "*    I can't say much about other types, since numbers varies highly."
   ]
  },
  {
   "cell_type": "markdown",
   "metadata": {},
   "source": [
    "#### Error Rate with the K Value"
   ]
  },
  {
   "cell_type": "code",
   "execution_count": 35,
   "metadata": {},
   "outputs": [
    {
     "data": {
      "image/png": "[encoded data removed]",
      "text/plain": [
       "<Figure size 648x432 with 1 Axes>"
      ]
     },
     "metadata": {
      "needs_background": "light"
     },
     "output_type": "display_data"
    }
   ],
   "source": [
    "error = []\n",
    "\n",
    "# Calculating error for K values between 1 and 50.\n",
    "for i in range(1, 50):\n",
    "    knn = KNeighborsClassifier(n_neighbors=i)\n",
    "    knn.fit(X_train, y_train)\n",
    "    pred_i = knn.predict(X_test)\n",
    "    error.append(np.mean(pred_i != y_test))\n",
    "\n",
    "errorSeries = pd.Series(error)\n",
    "# Start from 1 instead of 0.\n",
    "errorSeries.index += 1\n",
    "\n",
    "plt.figure(figsize = (9, 6))\n",
    "plot = init_chart(\"line\", errorSeries, \"Error Rate K Value\", [\"K value\", \"Mean error\"], \"\", [\"o\", \"Blue\"])"
   ]
  }
 ],
 "metadata": {
  "colab": {
   "collapsed_sections": [],
   "name": "FlatsAruodasProject.ipynb",
   "provenance": [],
   "version": "0.3.2"
  },
  "kernelspec": {
   "display_name": "Python 3",
   "language": "python",
   "name": "python3"
  },
  "language_info": {
   "codemirror_mode": {
    "name": "ipython",
    "version": 3
   },
   "file_extension": ".py",
   "mimetype": "text/x-python",
   "name": "python",
   "nbconvert_exporter": "python",
   "pygments_lexer": "ipython3",
   "version": "3.7.3"
  }
 },
 "nbformat": 4,
 "nbformat_minor": 1
}
